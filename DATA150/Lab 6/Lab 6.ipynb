{
 "cells": [
  {
   "cell_type": "code",
   "execution_count": 38,
   "id": "initial_id",
   "metadata": {
    "collapsed": true,
    "ExecuteTime": {
     "end_time": "2023-10-09T14:18:23.477464300Z",
     "start_time": "2023-10-09T14:18:23.423290400Z"
    }
   },
   "outputs": [],
   "source": [
    "import pandas as pd\n",
    "import numpy as np\n",
    "from datetime import datetime"
   ]
  },
  {
   "cell_type": "code",
   "execution_count": 39,
   "outputs": [
    {
     "data": {
      "text/plain": "   species     island  bill_length_mm  bill_depth_mm  flipper_length_mm  \\\n0   Adelie  Torgersen            39.1           18.7              181.0   \n1   Adelie  Torgersen            39.5           17.4              186.0   \n2   Adelie  Torgersen            40.3           18.0              195.0   \n3   Adelie  Torgersen            36.7           19.3              193.0   \n4   Adelie  Torgersen            39.3           20.6              190.0   \n..     ...        ...             ...            ...                ...   \n95  Adelie     Biscoe            41.0           20.0              203.0   \n96  Adelie     Biscoe            37.7           16.0              183.0   \n97  Adelie     Biscoe            37.8           20.0              190.0   \n98  Adelie     Biscoe            37.9           18.6              193.0   \n99  Adelie     Biscoe            39.7           18.9              184.0   \n\n    body_mass_g     sex  \n0        3750.0    MALE  \n1        3800.0  FEMALE  \n2        3250.0  FEMALE  \n3        3450.0  FEMALE  \n4        3650.0    MALE  \n..          ...     ...  \n95       4725.0    MALE  \n96       3075.0  FEMALE  \n97       4250.0    MALE  \n98       2925.0  FEMALE  \n99       3550.0    MALE  \n\n[100 rows x 7 columns]",
      "text/html": "<div>\n<style scoped>\n    .dataframe tbody tr th:only-of-type {\n        vertical-align: middle;\n    }\n\n    .dataframe tbody tr th {\n        vertical-align: top;\n    }\n\n    .dataframe thead th {\n        text-align: right;\n    }\n</style>\n<table border=\"1\" class=\"dataframe\">\n  <thead>\n    <tr style=\"text-align: right;\">\n      <th></th>\n      <th>species</th>\n      <th>island</th>\n      <th>bill_length_mm</th>\n      <th>bill_depth_mm</th>\n      <th>flipper_length_mm</th>\n      <th>body_mass_g</th>\n      <th>sex</th>\n    </tr>\n  </thead>\n  <tbody>\n    <tr>\n      <th>0</th>\n      <td>Adelie</td>\n      <td>Torgersen</td>\n      <td>39.1</td>\n      <td>18.7</td>\n      <td>181.0</td>\n      <td>3750.0</td>\n      <td>MALE</td>\n    </tr>\n    <tr>\n      <th>1</th>\n      <td>Adelie</td>\n      <td>Torgersen</td>\n      <td>39.5</td>\n      <td>17.4</td>\n      <td>186.0</td>\n      <td>3800.0</td>\n      <td>FEMALE</td>\n    </tr>\n    <tr>\n      <th>2</th>\n      <td>Adelie</td>\n      <td>Torgersen</td>\n      <td>40.3</td>\n      <td>18.0</td>\n      <td>195.0</td>\n      <td>3250.0</td>\n      <td>FEMALE</td>\n    </tr>\n    <tr>\n      <th>3</th>\n      <td>Adelie</td>\n      <td>Torgersen</td>\n      <td>36.7</td>\n      <td>19.3</td>\n      <td>193.0</td>\n      <td>3450.0</td>\n      <td>FEMALE</td>\n    </tr>\n    <tr>\n      <th>4</th>\n      <td>Adelie</td>\n      <td>Torgersen</td>\n      <td>39.3</td>\n      <td>20.6</td>\n      <td>190.0</td>\n      <td>3650.0</td>\n      <td>MALE</td>\n    </tr>\n    <tr>\n      <th>...</th>\n      <td>...</td>\n      <td>...</td>\n      <td>...</td>\n      <td>...</td>\n      <td>...</td>\n      <td>...</td>\n      <td>...</td>\n    </tr>\n    <tr>\n      <th>95</th>\n      <td>Adelie</td>\n      <td>Biscoe</td>\n      <td>41.0</td>\n      <td>20.0</td>\n      <td>203.0</td>\n      <td>4725.0</td>\n      <td>MALE</td>\n    </tr>\n    <tr>\n      <th>96</th>\n      <td>Adelie</td>\n      <td>Biscoe</td>\n      <td>37.7</td>\n      <td>16.0</td>\n      <td>183.0</td>\n      <td>3075.0</td>\n      <td>FEMALE</td>\n    </tr>\n    <tr>\n      <th>97</th>\n      <td>Adelie</td>\n      <td>Biscoe</td>\n      <td>37.8</td>\n      <td>20.0</td>\n      <td>190.0</td>\n      <td>4250.0</td>\n      <td>MALE</td>\n    </tr>\n    <tr>\n      <th>98</th>\n      <td>Adelie</td>\n      <td>Biscoe</td>\n      <td>37.9</td>\n      <td>18.6</td>\n      <td>193.0</td>\n      <td>2925.0</td>\n      <td>FEMALE</td>\n    </tr>\n    <tr>\n      <th>99</th>\n      <td>Adelie</td>\n      <td>Biscoe</td>\n      <td>39.7</td>\n      <td>18.9</td>\n      <td>184.0</td>\n      <td>3550.0</td>\n      <td>MALE</td>\n    </tr>\n  </tbody>\n</table>\n<p>100 rows × 7 columns</p>\n</div>"
     },
     "execution_count": 39,
     "metadata": {},
     "output_type": "execute_result"
    }
   ],
   "source": [
    "pingviner = pd.read_csv('penguins.csv')\n",
    "pingviner.dropna(inplace=True)\n",
    "pingviner.reset_index(inplace=True)\n",
    "pingviner.drop('index', axis=1, inplace=True)\n",
    "pingviner.head(100)"
   ],
   "metadata": {
    "collapsed": false,
    "ExecuteTime": {
     "end_time": "2023-10-09T14:18:23.539430200Z",
     "start_time": "2023-10-09T14:18:23.440247600Z"
    }
   },
   "id": "e11f0d93c95074f5"
  },
  {
   "cell_type": "code",
   "execution_count": 40,
   "outputs": [
    {
     "data": {
      "text/plain": "sex\nFEMALE    3862.272727\nMALE      4545.684524\nName: body_mass_g, dtype: float64"
     },
     "execution_count": 40,
     "metadata": {},
     "output_type": "execute_result"
    }
   ],
   "source": [
    "# a)\n",
    "vekt = pingviner.groupby(['sex'])['body_mass_g'].mean()\n",
    "vekt"
   ],
   "metadata": {
    "collapsed": false,
    "ExecuteTime": {
     "end_time": "2023-10-09T14:18:23.540397600Z",
     "start_time": "2023-10-09T14:18:23.468454Z"
    }
   },
   "id": "8584d06ef09149de"
  },
  {
   "cell_type": "code",
   "execution_count": 41,
   "outputs": [
    {
     "data": {
      "text/plain": "island     sex   \nBiscoe     FEMALE    4319.375000\n           MALE      5104.518072\nDream      FEMALE    3446.311475\n           MALE      3987.096774\nTorgersen  FEMALE    3395.833333\n           MALE      4034.782609\nName: body_mass_g, dtype: float64"
     },
     "execution_count": 41,
     "metadata": {},
     "output_type": "execute_result"
    }
   ],
   "source": [
    "vekt2 = pingviner.groupby(['island', 'sex'])['body_mass_g'].mean()\n",
    "vekt2"
   ],
   "metadata": {
    "collapsed": false,
    "ExecuteTime": {
     "end_time": "2023-10-09T14:18:23.541355900Z",
     "start_time": "2023-10-09T14:18:23.487458700Z"
    }
   },
   "id": "52d5b50f8a9f6b08"
  },
  {
   "cell_type": "code",
   "execution_count": 42,
   "outputs": [
    {
     "data": {
      "text/plain": "species    island     sex   \nAdelie     Biscoe     FEMALE    22\n                      MALE      22\n           Dream      FEMALE    27\n                      MALE      28\n           Torgersen  FEMALE    24\n                      MALE      23\nChinstrap  Dream      FEMALE    34\n                      MALE      34\nGentoo     Biscoe     FEMALE    58\n                      MALE      61\nName: sex, dtype: int64"
     },
     "execution_count": 42,
     "metadata": {},
     "output_type": "execute_result"
    }
   ],
   "source": [
    "# c)\n",
    "individer = pingviner.groupby(['species', 'island', 'sex'])['sex'].count()\n",
    "individer"
   ],
   "metadata": {
    "collapsed": false,
    "ExecuteTime": {
     "end_time": "2023-10-09T14:18:23.541355900Z",
     "start_time": "2023-10-09T14:18:23.500452800Z"
    }
   },
   "id": "35bb8949aae97695"
  },
  {
   "cell_type": "code",
   "execution_count": 43,
   "outputs": [
    {
     "data": {
      "text/plain": "species\nAdelie    3706.164384\nGentoo    5092.436975\nName: body_mass_g, dtype: float64"
     },
     "execution_count": 43,
     "metadata": {},
     "output_type": "execute_result"
    }
   ],
   "source": [
    "# d)\n",
    "adge = pingviner.groupby('species')['body_mass_g'].mean()\n",
    "adge = adge.loc[['Adelie', 'Gentoo']]\n",
    "adge"
   ],
   "metadata": {
    "collapsed": false,
    "ExecuteTime": {
     "end_time": "2023-10-09T14:18:23.541355900Z",
     "start_time": "2023-10-09T14:18:23.516356400Z"
    }
   },
   "id": "668bb0848741e09a"
  },
  {
   "cell_type": "code",
   "execution_count": 44,
   "outputs": [
    {
     "data": {
      "text/plain": "island  species\nBiscoe  Adelie     3709.659091\n        Gentoo     5092.436975\nName: body_mass_g, dtype: float64"
     },
     "execution_count": 44,
     "metadata": {},
     "output_type": "execute_result"
    }
   ],
   "source": [
    "# e)\n",
    "adgebi = pingviner.groupby(['island', 'species'])['body_mass_g'].mean().drop(['Dream', 'Torgersen'], axis=0)\n",
    "adgebi"
   ],
   "metadata": {
    "collapsed": false,
    "ExecuteTime": {
     "end_time": "2023-10-09T14:18:23.559309400Z",
     "start_time": "2023-10-09T14:18:23.533356400Z"
    }
   },
   "id": "103c9af1fc64250e"
  },
  {
   "cell_type": "code",
   "execution_count": 45,
   "outputs": [
    {
     "data": {
      "text/plain": "           bill_length_mm  bill_depth_mm  flipper_length_mm  body_mass_g\nspecies                                                                 \nAdelie                 73             75                 66           69\nChinstrap              39             34                 35           31\nGentoo                 56             62                 53           58",
      "text/html": "<div>\n<style scoped>\n    .dataframe tbody tr th:only-of-type {\n        vertical-align: middle;\n    }\n\n    .dataframe tbody tr th {\n        vertical-align: top;\n    }\n\n    .dataframe thead th {\n        text-align: right;\n    }\n</style>\n<table border=\"1\" class=\"dataframe\">\n  <thead>\n    <tr style=\"text-align: right;\">\n      <th></th>\n      <th>bill_length_mm</th>\n      <th>bill_depth_mm</th>\n      <th>flipper_length_mm</th>\n      <th>body_mass_g</th>\n    </tr>\n    <tr>\n      <th>species</th>\n      <th></th>\n      <th></th>\n      <th></th>\n      <th></th>\n    </tr>\n  </thead>\n  <tbody>\n    <tr>\n      <th>Adelie</th>\n      <td>73</td>\n      <td>75</td>\n      <td>66</td>\n      <td>69</td>\n    </tr>\n    <tr>\n      <th>Chinstrap</th>\n      <td>39</td>\n      <td>34</td>\n      <td>35</td>\n      <td>31</td>\n    </tr>\n    <tr>\n      <th>Gentoo</th>\n      <td>56</td>\n      <td>62</td>\n      <td>53</td>\n      <td>58</td>\n    </tr>\n  </tbody>\n</table>\n</div>"
     },
     "execution_count": 45,
     "metadata": {},
     "output_type": "execute_result"
    }
   ],
   "source": [
    "# f)\n",
    "def antallOver(serie, grense=None):\n",
    "    if grense == None:\n",
    "        grense = serie.mean()\n",
    "    return serie[serie > grense].count()\n",
    "\n",
    "\n",
    "count = pingviner.groupby('species')[['bill_length_mm', 'bill_depth_mm', 'flipper_length_mm', 'body_mass_g']].agg(\n",
    "    antallOver)\n",
    "count"
   ],
   "metadata": {
    "collapsed": false,
    "ExecuteTime": {
     "end_time": "2023-10-09T14:18:23.615225Z",
     "start_time": "2023-10-09T14:18:23.547357100Z"
    }
   },
   "id": "767e9b071b1a124f"
  },
  {
   "cell_type": "code",
   "execution_count": 46,
   "outputs": [
    {
     "data": {
      "text/plain": "    species     island  bill_length  flipper_length  body_mass     sex\n0    Adelie  Torgersen        1.564            7.24      3.750    MALE\n1    Adelie  Torgersen        1.580            7.44      3.800  FEMALE\n2    Adelie  Torgersen        1.612            7.80      3.250  FEMALE\n3    Adelie  Torgersen        1.468            7.72      3.450  FEMALE\n4    Adelie  Torgersen        1.572            7.60      3.650    MALE\n..      ...        ...          ...             ...        ...     ...\n328  Gentoo     Biscoe        1.888            8.56      4.925  FEMALE\n329  Gentoo     Biscoe        1.872            8.60      4.850  FEMALE\n330  Gentoo     Biscoe        2.016            8.88      5.750    MALE\n331  Gentoo     Biscoe        1.808            8.48      5.200  FEMALE\n332  Gentoo     Biscoe        1.996            8.52      5.400    MALE\n\n[333 rows x 6 columns]",
      "text/html": "<div>\n<style scoped>\n    .dataframe tbody tr th:only-of-type {\n        vertical-align: middle;\n    }\n\n    .dataframe tbody tr th {\n        vertical-align: top;\n    }\n\n    .dataframe thead th {\n        text-align: right;\n    }\n</style>\n<table border=\"1\" class=\"dataframe\">\n  <thead>\n    <tr style=\"text-align: right;\">\n      <th></th>\n      <th>species</th>\n      <th>island</th>\n      <th>bill_length</th>\n      <th>flipper_length</th>\n      <th>body_mass</th>\n      <th>sex</th>\n    </tr>\n  </thead>\n  <tbody>\n    <tr>\n      <th>0</th>\n      <td>Adelie</td>\n      <td>Torgersen</td>\n      <td>1.564</td>\n      <td>7.24</td>\n      <td>3.750</td>\n      <td>MALE</td>\n    </tr>\n    <tr>\n      <th>1</th>\n      <td>Adelie</td>\n      <td>Torgersen</td>\n      <td>1.580</td>\n      <td>7.44</td>\n      <td>3.800</td>\n      <td>FEMALE</td>\n    </tr>\n    <tr>\n      <th>2</th>\n      <td>Adelie</td>\n      <td>Torgersen</td>\n      <td>1.612</td>\n      <td>7.80</td>\n      <td>3.250</td>\n      <td>FEMALE</td>\n    </tr>\n    <tr>\n      <th>3</th>\n      <td>Adelie</td>\n      <td>Torgersen</td>\n      <td>1.468</td>\n      <td>7.72</td>\n      <td>3.450</td>\n      <td>FEMALE</td>\n    </tr>\n    <tr>\n      <th>4</th>\n      <td>Adelie</td>\n      <td>Torgersen</td>\n      <td>1.572</td>\n      <td>7.60</td>\n      <td>3.650</td>\n      <td>MALE</td>\n    </tr>\n    <tr>\n      <th>...</th>\n      <td>...</td>\n      <td>...</td>\n      <td>...</td>\n      <td>...</td>\n      <td>...</td>\n      <td>...</td>\n    </tr>\n    <tr>\n      <th>328</th>\n      <td>Gentoo</td>\n      <td>Biscoe</td>\n      <td>1.888</td>\n      <td>8.56</td>\n      <td>4.925</td>\n      <td>FEMALE</td>\n    </tr>\n    <tr>\n      <th>329</th>\n      <td>Gentoo</td>\n      <td>Biscoe</td>\n      <td>1.872</td>\n      <td>8.60</td>\n      <td>4.850</td>\n      <td>FEMALE</td>\n    </tr>\n    <tr>\n      <th>330</th>\n      <td>Gentoo</td>\n      <td>Biscoe</td>\n      <td>2.016</td>\n      <td>8.88</td>\n      <td>5.750</td>\n      <td>MALE</td>\n    </tr>\n    <tr>\n      <th>331</th>\n      <td>Gentoo</td>\n      <td>Biscoe</td>\n      <td>1.808</td>\n      <td>8.48</td>\n      <td>5.200</td>\n      <td>FEMALE</td>\n    </tr>\n    <tr>\n      <th>332</th>\n      <td>Gentoo</td>\n      <td>Biscoe</td>\n      <td>1.996</td>\n      <td>8.52</td>\n      <td>5.400</td>\n      <td>MALE</td>\n    </tr>\n  </tbody>\n</table>\n<p>333 rows × 6 columns</p>\n</div>"
     },
     "execution_count": 46,
     "metadata": {},
     "output_type": "execute_result"
    }
   ],
   "source": [
    "# g)\n",
    "def mm_to_inch(mm):\n",
    "    return mm / 25\n",
    "\n",
    "\n",
    "def g_to_k(gram):\n",
    "    return (gram / 1000)\n",
    "\n",
    "\n",
    "d = {'species': lambda x: x, 'island': lambda x: x, 'bill_length_mm': mm_to_inch, 'flipper_length_mm': mm_to_inch,\n",
    "     'body_mass_g': g_to_k, 'sex': lambda x: x}\n",
    "\n",
    "resultat = pingviner.transform(d)\n",
    "resultat.columns = ['species', 'island', 'bill_length', 'flipper_length', 'body_mass', 'sex']\n",
    "resultat"
   ],
   "metadata": {
    "collapsed": false,
    "ExecuteTime": {
     "end_time": "2023-10-09T14:18:23.652628600Z",
     "start_time": "2023-10-09T14:18:23.578309300Z"
    }
   },
   "id": "8045f82715bb75f5"
  },
  {
   "cell_type": "code",
   "execution_count": 47,
   "outputs": [
    {
     "name": "stdout",
     "output_type": "stream",
     "text": [
      "På Biscoe er det 163 individer\n",
      "På Dream er det 123 individer\n",
      "På Torgersen er det 47 individer\n"
     ]
    }
   ],
   "source": [
    "# h)\n",
    "# 1)\n",
    "tallisland = pingviner.groupby('island')['species'].count()\n",
    "for island, antall in tallisland.items():\n",
    "    print(f'På {island} er det {antall} individer')"
   ],
   "metadata": {
    "collapsed": false,
    "ExecuteTime": {
     "end_time": "2023-10-09T14:18:23.700515700Z",
     "start_time": "2023-10-09T14:18:23.611228400Z"
    }
   },
   "id": "cc73093777e3a441"
  },
  {
   "cell_type": "code",
   "execution_count": 48,
   "outputs": [
    {
     "data": {
      "text/plain": "4288.986013986014"
     },
     "execution_count": 48,
     "metadata": {},
     "output_type": "execute_result"
    }
   ],
   "source": [
    "# i)\n",
    "def test(gruppe):\n",
    "    return gruppe['island'].count() > 100\n",
    "\n",
    "\n",
    "gruppering = pingviner.groupby('island')\n",
    "resultat = gruppering.filter(test)['body_mass_g'].mean()\n",
    "resultat"
   ],
   "metadata": {
    "collapsed": false,
    "ExecuteTime": {
     "end_time": "2023-10-09T14:18:23.701277Z",
     "start_time": "2023-10-09T14:18:23.625225400Z"
    }
   },
   "id": "31ac409670e6c64a"
  },
  {
   "cell_type": "code",
   "execution_count": 49,
   "outputs": [],
   "source": [
    "# Oppg 2\n",
    "data = [{'a': 1, 'b': 10, 'c': 100}, {'a': 2, 'b': 20, 'c': 200}, {'a': 3, 'b': 30, 'c': 300}]\n",
    "df2 = pd.DataFrame(data)\n",
    "\n",
    "\n",
    "# a)\n",
    "def rammeArg(df, arg, axis=0):\n",
    "    if axis == 1:\n",
    "        series = [df.iloc[r] for r in df.index]\n",
    "    else:\n",
    "        series = [df[k] for k in df.columns]\n",
    "    return pd.concat(series).reset_index(drop=True).agg(arg)"
   ],
   "metadata": {
    "collapsed": false,
    "ExecuteTime": {
     "end_time": "2023-10-09T14:18:23.702272400Z",
     "start_time": "2023-10-09T14:18:23.643029400Z"
    }
   },
   "id": "afb316a7477bf988"
  },
  {
   "cell_type": "code",
   "execution_count": 50,
   "outputs": [
    {
     "name": "stdout",
     "output_type": "stream",
     "text": [
      "666\n",
      "666\n"
     ]
    }
   ],
   "source": [
    "print(rammeArg(df2, sum))\n",
    "print(rammeArg(df2, np.sum))"
   ],
   "metadata": {
    "collapsed": false,
    "ExecuteTime": {
     "end_time": "2023-10-09T14:18:23.703271900Z",
     "start_time": "2023-10-09T14:18:23.657622600Z"
    }
   },
   "id": "687718d976b7ac61"
  },
  {
   "cell_type": "code",
   "execution_count": 51,
   "outputs": [],
   "source": [
    "# b)\n",
    "def maxEndring(serie):\n",
    "    res = 0\n",
    "    for p in range(0, len(serie) - 1):\n",
    "        d = serie.iloc[p + 1] - serie.iloc[p]\n",
    "        if np.abs(d) > np.abs(res): res = d\n",
    "    return res"
   ],
   "metadata": {
    "collapsed": false,
    "ExecuteTime": {
     "end_time": "2023-10-09T14:18:23.777303300Z",
     "start_time": "2023-10-09T14:18:23.670788600Z"
    }
   },
   "id": "3c6f44ba73c64064"
  },
  {
   "cell_type": "code",
   "execution_count": 52,
   "outputs": [
    {
     "name": "stdout",
     "output_type": "stream",
     "text": [
      "100\n",
      "270\n"
     ]
    }
   ],
   "source": [
    "print(rammeArg(df2, maxEndring, axis=0))\n",
    "print(rammeArg(df2, maxEndring, axis=1))"
   ],
   "metadata": {
    "collapsed": false,
    "ExecuteTime": {
     "end_time": "2023-10-09T14:18:23.803806Z",
     "start_time": "2023-10-09T14:18:23.686515900Z"
    }
   },
   "id": "f8581481c3e21320"
  },
  {
   "cell_type": "code",
   "execution_count": 53,
   "outputs": [
    {
     "data": {
      "text/plain": "           Navn  AnsattNr      Fdato Kjønn    Lønn  Avd      Adato\n0      Erik Dal      1201 1995-01-09     M  500000    5 2019-10-04\n1  Kari Normann      1234 1985-12-08     K  600000    5 2021-02-13\n2    Berit Berg      2234 1998-01-19     K  450000    4 2020-11-18\n3     Ina Fjell      3201 1981-06-21     K  630000    4 2021-12-01\n4    Geir Olsen      3251 1992-09-15     M  580000    5 2019-09-21\n5      Jon Dale      4411 2002-07-31     M  450000    5 2021-02-13\n6    Jens Smith      4422 1999-03-29     M  450000    4 2022-05-14\n7  Anne Solberg      4567 1977-11-10     K  750000    1 2018-03-01",
      "text/html": "<div>\n<style scoped>\n    .dataframe tbody tr th:only-of-type {\n        vertical-align: middle;\n    }\n\n    .dataframe tbody tr th {\n        vertical-align: top;\n    }\n\n    .dataframe thead th {\n        text-align: right;\n    }\n</style>\n<table border=\"1\" class=\"dataframe\">\n  <thead>\n    <tr style=\"text-align: right;\">\n      <th></th>\n      <th>Navn</th>\n      <th>AnsattNr</th>\n      <th>Fdato</th>\n      <th>Kjønn</th>\n      <th>Lønn</th>\n      <th>Avd</th>\n      <th>Adato</th>\n    </tr>\n  </thead>\n  <tbody>\n    <tr>\n      <th>0</th>\n      <td>Erik Dal</td>\n      <td>1201</td>\n      <td>1995-01-09</td>\n      <td>M</td>\n      <td>500000</td>\n      <td>5</td>\n      <td>2019-10-04</td>\n    </tr>\n    <tr>\n      <th>1</th>\n      <td>Kari Normann</td>\n      <td>1234</td>\n      <td>1985-12-08</td>\n      <td>K</td>\n      <td>600000</td>\n      <td>5</td>\n      <td>2021-02-13</td>\n    </tr>\n    <tr>\n      <th>2</th>\n      <td>Berit Berg</td>\n      <td>2234</td>\n      <td>1998-01-19</td>\n      <td>K</td>\n      <td>450000</td>\n      <td>4</td>\n      <td>2020-11-18</td>\n    </tr>\n    <tr>\n      <th>3</th>\n      <td>Ina Fjell</td>\n      <td>3201</td>\n      <td>1981-06-21</td>\n      <td>K</td>\n      <td>630000</td>\n      <td>4</td>\n      <td>2021-12-01</td>\n    </tr>\n    <tr>\n      <th>4</th>\n      <td>Geir Olsen</td>\n      <td>3251</td>\n      <td>1992-09-15</td>\n      <td>M</td>\n      <td>580000</td>\n      <td>5</td>\n      <td>2019-09-21</td>\n    </tr>\n    <tr>\n      <th>5</th>\n      <td>Jon Dale</td>\n      <td>4411</td>\n      <td>2002-07-31</td>\n      <td>M</td>\n      <td>450000</td>\n      <td>5</td>\n      <td>2021-02-13</td>\n    </tr>\n    <tr>\n      <th>6</th>\n      <td>Jens Smith</td>\n      <td>4422</td>\n      <td>1999-03-29</td>\n      <td>M</td>\n      <td>450000</td>\n      <td>4</td>\n      <td>2022-05-14</td>\n    </tr>\n    <tr>\n      <th>7</th>\n      <td>Anne Solberg</td>\n      <td>4567</td>\n      <td>1977-11-10</td>\n      <td>K</td>\n      <td>750000</td>\n      <td>1</td>\n      <td>2018-03-01</td>\n    </tr>\n  </tbody>\n</table>\n</div>"
     },
     "execution_count": 53,
     "metadata": {},
     "output_type": "execute_result"
    }
   ],
   "source": [
    "# Del 2\n",
    "# Oppg 1\n",
    "# a)\n",
    "ansatte = pd.read_csv('ansatte.csv', sep='\\t', parse_dates=['Fdato', 'Adato'])\n",
    "ansatte"
   ],
   "metadata": {
    "collapsed": false,
    "ExecuteTime": {
     "end_time": "2023-10-09T14:18:23.841727500Z",
     "start_time": "2023-10-09T14:18:23.704272200Z"
    }
   },
   "id": "60107d4a4ce873fc"
  },
  {
   "cell_type": "code",
   "execution_count": 58,
   "outputs": [
    {
     "data": {
      "text/plain": "           Navn      Alder\n0      Erik Dal 10500 days\n1  Kari Normann 13819 days\n2    Berit Berg  9394 days\n3     Ina Fjell 15450 days\n4    Geir Olsen 11346 days\n5      Jon Dale  7740 days\n6    Jens Smith  8960 days\n7  Anne Solberg 16769 days",
      "text/html": "<div>\n<style scoped>\n    .dataframe tbody tr th:only-of-type {\n        vertical-align: middle;\n    }\n\n    .dataframe tbody tr th {\n        vertical-align: top;\n    }\n\n    .dataframe thead th {\n        text-align: right;\n    }\n</style>\n<table border=\"1\" class=\"dataframe\">\n  <thead>\n    <tr style=\"text-align: right;\">\n      <th></th>\n      <th>Navn</th>\n      <th>Alder</th>\n    </tr>\n  </thead>\n  <tbody>\n    <tr>\n      <th>0</th>\n      <td>Erik Dal</td>\n      <td>10500 days</td>\n    </tr>\n    <tr>\n      <th>1</th>\n      <td>Kari Normann</td>\n      <td>13819 days</td>\n    </tr>\n    <tr>\n      <th>2</th>\n      <td>Berit Berg</td>\n      <td>9394 days</td>\n    </tr>\n    <tr>\n      <th>3</th>\n      <td>Ina Fjell</td>\n      <td>15450 days</td>\n    </tr>\n    <tr>\n      <th>4</th>\n      <td>Geir Olsen</td>\n      <td>11346 days</td>\n    </tr>\n    <tr>\n      <th>5</th>\n      <td>Jon Dale</td>\n      <td>7740 days</td>\n    </tr>\n    <tr>\n      <th>6</th>\n      <td>Jens Smith</td>\n      <td>8960 days</td>\n    </tr>\n    <tr>\n      <th>7</th>\n      <td>Anne Solberg</td>\n      <td>16769 days</td>\n    </tr>\n  </tbody>\n</table>\n</div>"
     },
     "execution_count": 58,
     "metadata": {},
     "output_type": "execute_result"
    }
   ],
   "source": [
    "time = datetime.now()\n",
    "idag = datetime(time.year, time.month, time.day)\n",
    "resultat = pd.concat([ansatte['Navn'], (idag - ansatte['Fdato'])], axis=1)\n",
    "resultat.columns = ['Navn', 'Alder']\n",
    "resultat"
   ],
   "metadata": {
    "collapsed": false,
    "ExecuteTime": {
     "end_time": "2023-10-09T14:21:44.472503800Z",
     "start_time": "2023-10-09T14:21:44.432239300Z"
    }
   },
   "id": "276114c6fbdd1457"
  },
  {
   "cell_type": "code",
   "execution_count": 64,
   "outputs": [
    {
     "name": "stdout",
     "output_type": "stream",
     "text": [
      "Erik Dal, Har vært ansatt i, 1466 dager\n",
      "Kari Normann, Har vært ansatt i, 968 dager\n",
      "Berit Berg, Har vært ansatt i, 1055 dager\n",
      "Ina Fjell, Har vært ansatt i, 677 dager\n",
      "Geir Olsen, Har vært ansatt i, 1479 dager\n",
      "Jon Dale, Har vært ansatt i, 968 dager\n",
      "Jens Smith, Har vært ansatt i, 513 dager\n",
      "Anne Solberg, Har vært ansatt i, 2048 dager\n"
     ]
    }
   ],
   "source": [
    "# b)\n",
    "now = datetime.now()\n",
    "for i in ansatte.index:\n",
    "    (navn, anr, fdato, kjønn, lønn, avd, adato) = ansatte.iloc[i].to_list()\n",
    "    print(f'{navn}, Har vært ansatt i, {(now - adato).days} dager')"
   ],
   "metadata": {
    "collapsed": false,
    "ExecuteTime": {
     "end_time": "2023-10-09T14:43:35.533400300Z",
     "start_time": "2023-10-09T14:43:35.513347400Z"
    }
   },
   "id": "431b7b43129a51dc"
  },
  {
   "cell_type": "code",
   "execution_count": null,
   "outputs": [],
   "source": [],
   "metadata": {
    "collapsed": false
   },
   "id": "3f5ddf0fedf21415"
  }
 ],
 "metadata": {
  "kernelspec": {
   "display_name": "Python 3",
   "language": "python",
   "name": "python3"
  },
  "language_info": {
   "codemirror_mode": {
    "name": "ipython",
    "version": 2
   },
   "file_extension": ".py",
   "mimetype": "text/x-python",
   "name": "python",
   "nbconvert_exporter": "python",
   "pygments_lexer": "ipython2",
   "version": "2.7.6"
  }
 },
 "nbformat": 4,
 "nbformat_minor": 5
}
