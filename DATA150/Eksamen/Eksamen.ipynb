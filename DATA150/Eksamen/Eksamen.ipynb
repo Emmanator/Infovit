{
 "cells": [
  {
   "cell_type": "code",
   "execution_count": 75,
   "id": "initial_id",
   "metadata": {
    "collapsed": true,
    "ExecuteTime": {
     "end_time": "2023-10-23T13:45:29.847628500Z",
     "start_time": "2023-10-23T13:45:29.707033600Z"
    }
   },
   "outputs": [],
   "source": [
    "# Oppg 2\n",
    "# import data\n",
    "import pandas as pd\n",
    "\n",
    "viner = pd.read_csv(\"viner.csv\", sep='\\t')\n",
    "saker = pd.read_csv(\"saker.csv\", sep=';')"
   ]
  },
  {
   "cell_type": "code",
   "execution_count": 76,
   "outputs": [
    {
     "data": {
      "text/plain": "            Sak  1980  1990  2000  2010  2020\n0       Alkohol    14     1     1     0     0\n1       Målform     7     4    15     9     1\n2  Territorielt     0    17     0     2     0\n3         Miljø     1     0     0     3     0",
      "text/html": "<div>\n<style scoped>\n    .dataframe tbody tr th:only-of-type {\n        vertical-align: middle;\n    }\n\n    .dataframe tbody tr th {\n        vertical-align: top;\n    }\n\n    .dataframe thead th {\n        text-align: right;\n    }\n</style>\n<table border=\"1\" class=\"dataframe\">\n  <thead>\n    <tr style=\"text-align: right;\">\n      <th></th>\n      <th>Sak</th>\n      <th>1980</th>\n      <th>1990</th>\n      <th>2000</th>\n      <th>2010</th>\n      <th>2020</th>\n    </tr>\n  </thead>\n  <tbody>\n    <tr>\n      <th>0</th>\n      <td>Alkohol</td>\n      <td>14</td>\n      <td>1</td>\n      <td>1</td>\n      <td>0</td>\n      <td>0</td>\n    </tr>\n    <tr>\n      <th>1</th>\n      <td>Målform</td>\n      <td>7</td>\n      <td>4</td>\n      <td>15</td>\n      <td>9</td>\n      <td>1</td>\n    </tr>\n    <tr>\n      <th>2</th>\n      <td>Territorielt</td>\n      <td>0</td>\n      <td>17</td>\n      <td>0</td>\n      <td>2</td>\n      <td>0</td>\n    </tr>\n    <tr>\n      <th>3</th>\n      <td>Miljø</td>\n      <td>1</td>\n      <td>0</td>\n      <td>0</td>\n      <td>3</td>\n      <td>0</td>\n    </tr>\n  </tbody>\n</table>\n</div>"
     },
     "execution_count": 76,
     "metadata": {},
     "output_type": "execute_result"
    }
   ],
   "source": [
    "saker.head(10)"
   ],
   "metadata": {
    "collapsed": false,
    "ExecuteTime": {
     "end_time": "2023-10-23T13:45:29.941960400Z",
     "start_time": "2023-10-23T13:45:29.715048100Z"
    }
   },
   "id": "ce27b04e98640274"
  },
  {
   "cell_type": "code",
   "execution_count": 77,
   "outputs": [
    {
     "data": {
      "text/plain": "4"
     },
     "execution_count": 77,
     "metadata": {},
     "output_type": "execute_result"
    }
   ],
   "source": [
    "# hent specific celle, rad, kollonne\n",
    "saker.iloc[1, 2]"
   ],
   "metadata": {
    "collapsed": false,
    "ExecuteTime": {
     "end_time": "2023-10-23T13:45:29.942960400Z",
     "start_time": "2023-10-23T13:45:29.727241400Z"
    }
   },
   "id": "be68eadeef59dc71"
  },
  {
   "cell_type": "code",
   "execution_count": 78,
   "outputs": [
    {
     "data": {
      "text/plain": "0    0\n1    9\n2    2\n3    3\nName: 2010, dtype: int64"
     },
     "execution_count": 78,
     "metadata": {},
     "output_type": "execute_result"
    }
   ],
   "source": [
    "# hent kolonne\n",
    "saker['2010']"
   ],
   "metadata": {
    "collapsed": false,
    "ExecuteTime": {
     "end_time": "2023-10-23T13:45:29.942960400Z",
     "start_time": "2023-10-23T13:45:29.745109100Z"
    }
   },
   "id": "5d9941eb126dd857"
  },
  {
   "cell_type": "code",
   "execution_count": 79,
   "outputs": [
    {
     "data": {
      "text/plain": "       Sak  1980  1990  2000  2010  2020\n1  Målform     7     4    15     9     1",
      "text/html": "<div>\n<style scoped>\n    .dataframe tbody tr th:only-of-type {\n        vertical-align: middle;\n    }\n\n    .dataframe tbody tr th {\n        vertical-align: top;\n    }\n\n    .dataframe thead th {\n        text-align: right;\n    }\n</style>\n<table border=\"1\" class=\"dataframe\">\n  <thead>\n    <tr style=\"text-align: right;\">\n      <th></th>\n      <th>Sak</th>\n      <th>1980</th>\n      <th>1990</th>\n      <th>2000</th>\n      <th>2010</th>\n      <th>2020</th>\n    </tr>\n  </thead>\n  <tbody>\n    <tr>\n      <th>1</th>\n      <td>Målform</td>\n      <td>7</td>\n      <td>4</td>\n      <td>15</td>\n      <td>9</td>\n      <td>1</td>\n    </tr>\n  </tbody>\n</table>\n</div>"
     },
     "execution_count": 79,
     "metadata": {},
     "output_type": "execute_result"
    }
   ],
   "source": [
    "# Hent rad \n",
    "rad = saker[saker['Sak'] == 'Målform']\n",
    "rad"
   ],
   "metadata": {
    "collapsed": false,
    "ExecuteTime": {
     "end_time": "2023-10-23T13:45:29.942960400Z",
     "start_time": "2023-10-23T13:45:29.764716900Z"
    }
   },
   "id": "7609c24cf280aa5d"
  },
  {
   "cell_type": "code",
   "execution_count": 80,
   "outputs": [
    {
     "data": {
      "text/plain": "   1980  1990\n0    14     1\n3     1     0",
      "text/html": "<div>\n<style scoped>\n    .dataframe tbody tr th:only-of-type {\n        vertical-align: middle;\n    }\n\n    .dataframe tbody tr th {\n        vertical-align: top;\n    }\n\n    .dataframe thead th {\n        text-align: right;\n    }\n</style>\n<table border=\"1\" class=\"dataframe\">\n  <thead>\n    <tr style=\"text-align: right;\">\n      <th></th>\n      <th>1980</th>\n      <th>1990</th>\n    </tr>\n  </thead>\n  <tbody>\n    <tr>\n      <th>0</th>\n      <td>14</td>\n      <td>1</td>\n    </tr>\n    <tr>\n      <th>3</th>\n      <td>1</td>\n      <td>0</td>\n    </tr>\n  </tbody>\n</table>\n</div>"
     },
     "execution_count": 80,
     "metadata": {},
     "output_type": "execute_result"
    }
   ],
   "source": [
    "# hent rader basert på informasjon\n",
    "saker[saker['Sak'].isin(['Miljø', 'Alkohol'])][['1980', '1990']]"
   ],
   "metadata": {
    "collapsed": false,
    "ExecuteTime": {
     "end_time": "2023-10-23T13:45:29.942960400Z",
     "start_time": "2023-10-23T13:45:29.774650900Z"
    }
   },
   "id": "2e760f1f18f352b3"
  },
  {
   "cell_type": "code",
   "execution_count": 81,
   "outputs": [
    {
     "data": {
      "text/plain": "1980    5.50\n1990    5.50\n2000    4.00\n2010    3.50\n2020    0.25\ndtype: float64"
     },
     "execution_count": 81,
     "metadata": {},
     "output_type": "execute_result"
    }
   ],
   "source": [
    "# find average\n",
    "saker[['1980', '1990', '2000', '2010', '2020']].mean()"
   ],
   "metadata": {
    "collapsed": false,
    "ExecuteTime": {
     "end_time": "2023-10-23T13:45:29.942960400Z",
     "start_time": "2023-10-23T13:45:29.790469400Z"
    }
   },
   "id": "b8b5b6b62d8ea3d9"
  },
  {
   "cell_type": "code",
   "execution_count": 82,
   "outputs": [
    {
     "data": {
      "text/plain": "             Sak    År  Antall\n0        Alkohol  1980      14\n1        Målform  1980       7\n2   Territorielt  1980       0\n3          Miljø  1980       1\n4        Alkohol  1990       1\n5        Målform  1990       4\n6   Territorielt  1990      17\n7          Miljø  1990       0\n8        Alkohol  2000       1\n9        Målform  2000      15\n10  Territorielt  2000       0\n11         Miljø  2000       0\n12       Alkohol  2010       0\n13       Målform  2010       9\n14  Territorielt  2010       2\n15         Miljø  2010       3\n16       Alkohol  2020       0\n17       Målform  2020       1\n18  Territorielt  2020       0\n19         Miljø  2020       0",
      "text/html": "<div>\n<style scoped>\n    .dataframe tbody tr th:only-of-type {\n        vertical-align: middle;\n    }\n\n    .dataframe tbody tr th {\n        vertical-align: top;\n    }\n\n    .dataframe thead th {\n        text-align: right;\n    }\n</style>\n<table border=\"1\" class=\"dataframe\">\n  <thead>\n    <tr style=\"text-align: right;\">\n      <th></th>\n      <th>Sak</th>\n      <th>År</th>\n      <th>Antall</th>\n    </tr>\n  </thead>\n  <tbody>\n    <tr>\n      <th>0</th>\n      <td>Alkohol</td>\n      <td>1980</td>\n      <td>14</td>\n    </tr>\n    <tr>\n      <th>1</th>\n      <td>Målform</td>\n      <td>1980</td>\n      <td>7</td>\n    </tr>\n    <tr>\n      <th>2</th>\n      <td>Territorielt</td>\n      <td>1980</td>\n      <td>0</td>\n    </tr>\n    <tr>\n      <th>3</th>\n      <td>Miljø</td>\n      <td>1980</td>\n      <td>1</td>\n    </tr>\n    <tr>\n      <th>4</th>\n      <td>Alkohol</td>\n      <td>1990</td>\n      <td>1</td>\n    </tr>\n    <tr>\n      <th>5</th>\n      <td>Målform</td>\n      <td>1990</td>\n      <td>4</td>\n    </tr>\n    <tr>\n      <th>6</th>\n      <td>Territorielt</td>\n      <td>1990</td>\n      <td>17</td>\n    </tr>\n    <tr>\n      <th>7</th>\n      <td>Miljø</td>\n      <td>1990</td>\n      <td>0</td>\n    </tr>\n    <tr>\n      <th>8</th>\n      <td>Alkohol</td>\n      <td>2000</td>\n      <td>1</td>\n    </tr>\n    <tr>\n      <th>9</th>\n      <td>Målform</td>\n      <td>2000</td>\n      <td>15</td>\n    </tr>\n    <tr>\n      <th>10</th>\n      <td>Territorielt</td>\n      <td>2000</td>\n      <td>0</td>\n    </tr>\n    <tr>\n      <th>11</th>\n      <td>Miljø</td>\n      <td>2000</td>\n      <td>0</td>\n    </tr>\n    <tr>\n      <th>12</th>\n      <td>Alkohol</td>\n      <td>2010</td>\n      <td>0</td>\n    </tr>\n    <tr>\n      <th>13</th>\n      <td>Målform</td>\n      <td>2010</td>\n      <td>9</td>\n    </tr>\n    <tr>\n      <th>14</th>\n      <td>Territorielt</td>\n      <td>2010</td>\n      <td>2</td>\n    </tr>\n    <tr>\n      <th>15</th>\n      <td>Miljø</td>\n      <td>2010</td>\n      <td>3</td>\n    </tr>\n    <tr>\n      <th>16</th>\n      <td>Alkohol</td>\n      <td>2020</td>\n      <td>0</td>\n    </tr>\n    <tr>\n      <th>17</th>\n      <td>Målform</td>\n      <td>2020</td>\n      <td>1</td>\n    </tr>\n    <tr>\n      <th>18</th>\n      <td>Territorielt</td>\n      <td>2020</td>\n      <td>0</td>\n    </tr>\n    <tr>\n      <th>19</th>\n      <td>Miljø</td>\n      <td>2020</td>\n      <td>0</td>\n    </tr>\n  </tbody>\n</table>\n</div>"
     },
     "execution_count": 82,
     "metadata": {},
     "output_type": "execute_result"
    }
   ],
   "source": [
    "# long representation\n",
    "lang = saker.melt(id_vars='Sak', var_name='År', value_name='Antall')\n",
    "lang"
   ],
   "metadata": {
    "collapsed": false,
    "ExecuteTime": {
     "end_time": "2023-10-23T13:45:29.943961Z",
     "start_time": "2023-10-23T13:45:29.806469400Z"
    }
   },
   "id": "8e2412e207b48086"
  },
  {
   "cell_type": "code",
   "execution_count": 83,
   "outputs": [
    {
     "name": "stderr",
     "output_type": "stream",
     "text": [
      "C:\\Users\\Jakoa\\AppData\\Local\\Temp\\ipykernel_4320\\1340527347.py:2: FutureWarning: The default value of numeric_only in DataFrameGroupBy.sum is deprecated. In a future version, numeric_only will default to False. Either specify numeric_only or select only columns which should be valid for the function.\n",
      "  lang.groupby('Sak').sum()\n"
     ]
    },
    {
     "data": {
      "text/plain": "              Antall\nSak                 \nAlkohol           16\nMiljø              4\nMålform           36\nTerritorielt      19",
      "text/html": "<div>\n<style scoped>\n    .dataframe tbody tr th:only-of-type {\n        vertical-align: middle;\n    }\n\n    .dataframe tbody tr th {\n        vertical-align: top;\n    }\n\n    .dataframe thead th {\n        text-align: right;\n    }\n</style>\n<table border=\"1\" class=\"dataframe\">\n  <thead>\n    <tr style=\"text-align: right;\">\n      <th></th>\n      <th>Antall</th>\n    </tr>\n    <tr>\n      <th>Sak</th>\n      <th></th>\n    </tr>\n  </thead>\n  <tbody>\n    <tr>\n      <th>Alkohol</th>\n      <td>16</td>\n    </tr>\n    <tr>\n      <th>Miljø</th>\n      <td>4</td>\n    </tr>\n    <tr>\n      <th>Målform</th>\n      <td>36</td>\n    </tr>\n    <tr>\n      <th>Territorielt</th>\n      <td>19</td>\n    </tr>\n  </tbody>\n</table>\n</div>"
     },
     "execution_count": 83,
     "metadata": {},
     "output_type": "execute_result"
    }
   ],
   "source": [
    "# total\n",
    "lang.groupby('Sak').sum()"
   ],
   "metadata": {
    "collapsed": false,
    "ExecuteTime": {
     "end_time": "2023-10-23T13:45:29.944960600Z",
     "start_time": "2023-10-23T13:45:29.821981200Z"
    }
   },
   "id": "1a194c8bb1d7d84a"
  },
  {
   "cell_type": "code",
   "execution_count": 84,
   "outputs": [
    {
     "name": "stdout",
     "output_type": "stream",
     "text": [
      "I 1980 var det:\n",
      "14 avstemmninger om Alkohol\n",
      "7 avstemmninger om Målform\n",
      "0 avstemmninger om Territorielt\n",
      "1 avstemmninger om Miljø\n"
     ]
    }
   ],
   "source": [
    "# antall basert på årstall\n",
    "\n",
    "def skrivÅr(n):\n",
    "    print(f'I {n} var det:')\n",
    "    for i in saker.index:\n",
    "        rad = saker.iloc[i]\n",
    "        print(f'{rad[n]} avstemmninger om {rad[\"Sak\"]}')\n",
    "\n",
    "\n",
    "skrivÅr('1980')"
   ],
   "metadata": {
    "collapsed": false,
    "ExecuteTime": {
     "end_time": "2023-10-23T13:45:29.946960600Z",
     "start_time": "2023-10-23T13:45:29.839628900Z"
    }
   },
   "id": "faf30cc09c1f7167"
  },
  {
   "cell_type": "code",
   "execution_count": 85,
   "outputs": [
    {
     "data": {
      "text/plain": "     Sak  1980  1990  2000  2010  2020\n0  Krets     1     2     1     2     0\n1  Annet     0     0     0     0     0",
      "text/html": "<div>\n<style scoped>\n    .dataframe tbody tr th:only-of-type {\n        vertical-align: middle;\n    }\n\n    .dataframe tbody tr th {\n        vertical-align: top;\n    }\n\n    .dataframe thead th {\n        text-align: right;\n    }\n</style>\n<table border=\"1\" class=\"dataframe\">\n  <thead>\n    <tr style=\"text-align: right;\">\n      <th></th>\n      <th>Sak</th>\n      <th>1980</th>\n      <th>1990</th>\n      <th>2000</th>\n      <th>2010</th>\n      <th>2020</th>\n    </tr>\n  </thead>\n  <tbody>\n    <tr>\n      <th>0</th>\n      <td>Krets</td>\n      <td>1</td>\n      <td>2</td>\n      <td>1</td>\n      <td>2</td>\n      <td>0</td>\n    </tr>\n    <tr>\n      <th>1</th>\n      <td>Annet</td>\n      <td>0</td>\n      <td>0</td>\n      <td>0</td>\n      <td>0</td>\n      <td>0</td>\n    </tr>\n  </tbody>\n</table>\n</div>"
     },
     "execution_count": 85,
     "metadata": {},
     "output_type": "execute_result"
    }
   ],
   "source": [
    "# make thing\n",
    "d = {'Sak': ['Krets', 'Annet'], '1980': [1, 0], '1990': [2, 0], '2000': [1, 0], '2010': [2, 0], '2020': [0, 0]}\n",
    "fleresaker = pd.DataFrame(d)\n",
    "fleresaker"
   ],
   "metadata": {
    "collapsed": false,
    "ExecuteTime": {
     "end_time": "2023-10-23T13:45:29.974883300Z",
     "start_time": "2023-10-23T13:45:29.854630300Z"
    }
   },
   "id": "ccd79d8a7238ca32"
  },
  {
   "cell_type": "code",
   "execution_count": 86,
   "outputs": [
    {
     "data": {
      "text/plain": "            Sak  1980  1990  2000  2010  2020\n0       Alkohol    14     1     1     0     0\n1       Målform     7     4    15     9     1\n2  Territorielt     0    17     0     2     0\n3         Miljø     1     0     0     3     0\n4         Krets     1     2     1     2     0\n5         Annet     0     0     0     0     0",
      "text/html": "<div>\n<style scoped>\n    .dataframe tbody tr th:only-of-type {\n        vertical-align: middle;\n    }\n\n    .dataframe tbody tr th {\n        vertical-align: top;\n    }\n\n    .dataframe thead th {\n        text-align: right;\n    }\n</style>\n<table border=\"1\" class=\"dataframe\">\n  <thead>\n    <tr style=\"text-align: right;\">\n      <th></th>\n      <th>Sak</th>\n      <th>1980</th>\n      <th>1990</th>\n      <th>2000</th>\n      <th>2010</th>\n      <th>2020</th>\n    </tr>\n  </thead>\n  <tbody>\n    <tr>\n      <th>0</th>\n      <td>Alkohol</td>\n      <td>14</td>\n      <td>1</td>\n      <td>1</td>\n      <td>0</td>\n      <td>0</td>\n    </tr>\n    <tr>\n      <th>1</th>\n      <td>Målform</td>\n      <td>7</td>\n      <td>4</td>\n      <td>15</td>\n      <td>9</td>\n      <td>1</td>\n    </tr>\n    <tr>\n      <th>2</th>\n      <td>Territorielt</td>\n      <td>0</td>\n      <td>17</td>\n      <td>0</td>\n      <td>2</td>\n      <td>0</td>\n    </tr>\n    <tr>\n      <th>3</th>\n      <td>Miljø</td>\n      <td>1</td>\n      <td>0</td>\n      <td>0</td>\n      <td>3</td>\n      <td>0</td>\n    </tr>\n    <tr>\n      <th>4</th>\n      <td>Krets</td>\n      <td>1</td>\n      <td>2</td>\n      <td>1</td>\n      <td>2</td>\n      <td>0</td>\n    </tr>\n    <tr>\n      <th>5</th>\n      <td>Annet</td>\n      <td>0</td>\n      <td>0</td>\n      <td>0</td>\n      <td>0</td>\n      <td>0</td>\n    </tr>\n  </tbody>\n</table>\n</div>"
     },
     "execution_count": 86,
     "metadata": {},
     "output_type": "execute_result"
    }
   ],
   "source": [
    "# Utvid dataframe\n",
    "saker = pd.concat([saker, fleresaker])\n",
    "saker.reset_index(inplace=True, drop=True)\n",
    "saker"
   ],
   "metadata": {
    "collapsed": false,
    "ExecuteTime": {
     "end_time": "2023-10-23T13:45:29.994884100Z",
     "start_time": "2023-10-23T13:45:29.871319800Z"
    }
   },
   "id": "d54913f87b081b88"
  },
  {
   "cell_type": "code",
   "execution_count": 87,
   "outputs": [
    {
     "data": {
      "text/plain": "            Sak  1980  1990  2000  2010  2020  1972  1994\n0       Alkohol    14     1     1     0     0    12     0\n1       Målform     7     4    15     9     1    15     4\n2  Territorielt     0    17     0     2     0     6     1\n3         Miljø     1     0     0     3     0     0     0\n4         Krets     1     2     1     2     0     3     1\n5         Annet     0     0     0     0     0     0     0",
      "text/html": "<div>\n<style scoped>\n    .dataframe tbody tr th:only-of-type {\n        vertical-align: middle;\n    }\n\n    .dataframe tbody tr th {\n        vertical-align: top;\n    }\n\n    .dataframe thead th {\n        text-align: right;\n    }\n</style>\n<table border=\"1\" class=\"dataframe\">\n  <thead>\n    <tr style=\"text-align: right;\">\n      <th></th>\n      <th>Sak</th>\n      <th>1980</th>\n      <th>1990</th>\n      <th>2000</th>\n      <th>2010</th>\n      <th>2020</th>\n      <th>1972</th>\n      <th>1994</th>\n    </tr>\n  </thead>\n  <tbody>\n    <tr>\n      <th>0</th>\n      <td>Alkohol</td>\n      <td>14</td>\n      <td>1</td>\n      <td>1</td>\n      <td>0</td>\n      <td>0</td>\n      <td>12</td>\n      <td>0</td>\n    </tr>\n    <tr>\n      <th>1</th>\n      <td>Målform</td>\n      <td>7</td>\n      <td>4</td>\n      <td>15</td>\n      <td>9</td>\n      <td>1</td>\n      <td>15</td>\n      <td>4</td>\n    </tr>\n    <tr>\n      <th>2</th>\n      <td>Territorielt</td>\n      <td>0</td>\n      <td>17</td>\n      <td>0</td>\n      <td>2</td>\n      <td>0</td>\n      <td>6</td>\n      <td>1</td>\n    </tr>\n    <tr>\n      <th>3</th>\n      <td>Miljø</td>\n      <td>1</td>\n      <td>0</td>\n      <td>0</td>\n      <td>3</td>\n      <td>0</td>\n      <td>0</td>\n      <td>0</td>\n    </tr>\n    <tr>\n      <th>4</th>\n      <td>Krets</td>\n      <td>1</td>\n      <td>2</td>\n      <td>1</td>\n      <td>2</td>\n      <td>0</td>\n      <td>3</td>\n      <td>1</td>\n    </tr>\n    <tr>\n      <th>5</th>\n      <td>Annet</td>\n      <td>0</td>\n      <td>0</td>\n      <td>0</td>\n      <td>0</td>\n      <td>0</td>\n      <td>0</td>\n      <td>0</td>\n    </tr>\n  </tbody>\n</table>\n</div>"
     },
     "execution_count": 87,
     "metadata": {},
     "output_type": "execute_result"
    }
   ],
   "source": [
    "# utvid saker\n",
    "flereår = pd.read_csv('flereår.csv', sep=';')\n",
    "saker = pd.concat([saker, flereår[['1972', '1994']]], axis=1)\n",
    "saker.reset_index(inplace=True, drop=True)\n",
    "saker"
   ],
   "metadata": {
    "collapsed": false,
    "ExecuteTime": {
     "end_time": "2023-10-23T13:45:29.995886100Z",
     "start_time": "2023-10-23T13:45:29.884862800Z"
    }
   },
   "id": "1b08e011f2b67e8c"
  },
  {
   "cell_type": "code",
   "execution_count": 88,
   "outputs": [
    {
     "data": {
      "text/plain": "              1980  1990  2000  2010  2020  1972  1994\nSak                                                   \nAlkohol         14     1     1     0     0    12     0\nMålform          7     4    15     9     1    15     4\nTerritorielt     0    17     0     2     0     6     1\nMiljø            1     0     0     3     0     0     0\nKrets            1     2     1     2     0     3     1\nAnnet            0     0     0     0     0     0     0",
      "text/html": "<div>\n<style scoped>\n    .dataframe tbody tr th:only-of-type {\n        vertical-align: middle;\n    }\n\n    .dataframe tbody tr th {\n        vertical-align: top;\n    }\n\n    .dataframe thead th {\n        text-align: right;\n    }\n</style>\n<table border=\"1\" class=\"dataframe\">\n  <thead>\n    <tr style=\"text-align: right;\">\n      <th></th>\n      <th>1980</th>\n      <th>1990</th>\n      <th>2000</th>\n      <th>2010</th>\n      <th>2020</th>\n      <th>1972</th>\n      <th>1994</th>\n    </tr>\n    <tr>\n      <th>Sak</th>\n      <th></th>\n      <th></th>\n      <th></th>\n      <th></th>\n      <th></th>\n      <th></th>\n      <th></th>\n    </tr>\n  </thead>\n  <tbody>\n    <tr>\n      <th>Alkohol</th>\n      <td>14</td>\n      <td>1</td>\n      <td>1</td>\n      <td>0</td>\n      <td>0</td>\n      <td>12</td>\n      <td>0</td>\n    </tr>\n    <tr>\n      <th>Målform</th>\n      <td>7</td>\n      <td>4</td>\n      <td>15</td>\n      <td>9</td>\n      <td>1</td>\n      <td>15</td>\n      <td>4</td>\n    </tr>\n    <tr>\n      <th>Territorielt</th>\n      <td>0</td>\n      <td>17</td>\n      <td>0</td>\n      <td>2</td>\n      <td>0</td>\n      <td>6</td>\n      <td>1</td>\n    </tr>\n    <tr>\n      <th>Miljø</th>\n      <td>1</td>\n      <td>0</td>\n      <td>0</td>\n      <td>3</td>\n      <td>0</td>\n      <td>0</td>\n      <td>0</td>\n    </tr>\n    <tr>\n      <th>Krets</th>\n      <td>1</td>\n      <td>2</td>\n      <td>1</td>\n      <td>2</td>\n      <td>0</td>\n      <td>3</td>\n      <td>1</td>\n    </tr>\n    <tr>\n      <th>Annet</th>\n      <td>0</td>\n      <td>0</td>\n      <td>0</td>\n      <td>0</td>\n      <td>0</td>\n      <td>0</td>\n      <td>0</td>\n    </tr>\n  </tbody>\n</table>\n</div>"
     },
     "execution_count": 88,
     "metadata": {},
     "output_type": "execute_result"
    }
   ],
   "source": [
    "saker.set_index('Sak', inplace=True)\n",
    "# saker.drop(columns=['Sak'],inplace=True)\n",
    "saker"
   ],
   "metadata": {
    "collapsed": false,
    "ExecuteTime": {
     "end_time": "2023-10-23T13:45:29.996883900Z",
     "start_time": "2023-10-23T13:45:29.899524400Z"
    }
   },
   "id": "909feca73859722"
  },
  {
   "cell_type": "code",
   "execution_count": 89,
   "outputs": [
    {
     "data": {
      "text/plain": "<Figure size 640x480 with 1 Axes>",
      "image/png": "[encoded data removed]"
     },
     "metadata": {},
     "output_type": "display_data"
    }
   ],
   "source": [
    "import matplotlib.pyplot as plt\n",
    "\n",
    "saker['1972'].plot.pie()\n",
    "plt.show()"
   ],
   "metadata": {
    "collapsed": false,
    "ExecuteTime": {
     "end_time": "2023-10-23T13:45:30.187484300Z",
     "start_time": "2023-10-23T13:45:29.915525Z"
    }
   },
   "id": "a744e93ea2d14d85"
  },
  {
   "cell_type": "code",
   "execution_count": 90,
   "outputs": [
    {
     "data": {
      "text/plain": "              1980  1990  2000  2010  2020  1972  1994\nSak                                                   \nAlkohol         14    15    16    16    16    28    28\nMålform          7    11    26    35    36    51    55\nTerritorielt     0    17    17    19    19    25    26\nMiljø            1     1     1     4     4     4     4\nKrets            1     3     4     6     6     9    10\nAnnet            0     0     0     0     0     0     0",
      "text/html": "<div>\n<style scoped>\n    .dataframe tbody tr th:only-of-type {\n        vertical-align: middle;\n    }\n\n    .dataframe tbody tr th {\n        vertical-align: top;\n    }\n\n    .dataframe thead th {\n        text-align: right;\n    }\n</style>\n<table border=\"1\" class=\"dataframe\">\n  <thead>\n    <tr style=\"text-align: right;\">\n      <th></th>\n      <th>1980</th>\n      <th>1990</th>\n      <th>2000</th>\n      <th>2010</th>\n      <th>2020</th>\n      <th>1972</th>\n      <th>1994</th>\n    </tr>\n    <tr>\n      <th>Sak</th>\n      <th></th>\n      <th></th>\n      <th></th>\n      <th></th>\n      <th></th>\n      <th></th>\n      <th></th>\n    </tr>\n  </thead>\n  <tbody>\n    <tr>\n      <th>Alkohol</th>\n      <td>14</td>\n      <td>15</td>\n      <td>16</td>\n      <td>16</td>\n      <td>16</td>\n      <td>28</td>\n      <td>28</td>\n    </tr>\n    <tr>\n      <th>Målform</th>\n      <td>7</td>\n      <td>11</td>\n      <td>26</td>\n      <td>35</td>\n      <td>36</td>\n      <td>51</td>\n      <td>55</td>\n    </tr>\n    <tr>\n      <th>Territorielt</th>\n      <td>0</td>\n      <td>17</td>\n      <td>17</td>\n      <td>19</td>\n      <td>19</td>\n      <td>25</td>\n      <td>26</td>\n    </tr>\n    <tr>\n      <th>Miljø</th>\n      <td>1</td>\n      <td>1</td>\n      <td>1</td>\n      <td>4</td>\n      <td>4</td>\n      <td>4</td>\n      <td>4</td>\n    </tr>\n    <tr>\n      <th>Krets</th>\n      <td>1</td>\n      <td>3</td>\n      <td>4</td>\n      <td>6</td>\n      <td>6</td>\n      <td>9</td>\n      <td>10</td>\n    </tr>\n    <tr>\n      <th>Annet</th>\n      <td>0</td>\n      <td>0</td>\n      <td>0</td>\n      <td>0</td>\n      <td>0</td>\n      <td>0</td>\n      <td>0</td>\n    </tr>\n  </tbody>\n</table>\n</div>"
     },
     "execution_count": 90,
     "metadata": {},
     "output_type": "execute_result"
    }
   ],
   "source": [
    "# Akkumuler\n",
    "def akkSum(r):\n",
    "    rad = r.copy()\n",
    "    for i in range(1, len(rad.index)):\n",
    "        rad.iloc[i] = rad.iloc[i] + rad.iloc[i - 1]\n",
    "    return rad\n",
    "\n",
    "\n",
    "akkumulert = saker.transform(akkSum, axis=1)\n",
    "akkumulert"
   ],
   "metadata": {
    "collapsed": false,
    "ExecuteTime": {
     "end_time": "2023-10-23T13:45:30.203064500Z",
     "start_time": "2023-10-23T13:45:29.993883700Z"
    }
   },
   "id": "b5af00b43c6d4b0a"
  },
  {
   "cell_type": "code",
   "execution_count": 91,
   "outputs": [
    {
     "data": {
      "text/plain": "                                     Vin  Årgang  Pris  Antall\n0                     Gran Feudo Crianza    2016   200       4\n1                     Gran Feudo Crianza    2015   220       1\n2                     Ch. Bonnet Reserve    2014   250       7\n3                     Ch. Bonnet Reserve    2010   190       3\n4                     Ch. Bonnet Reserve    2017   200       4\n5           Guerrini Forteguerra Chianti    2011   280       9\n6                              Periquita    2010   420       3\n7                              Periquita    2014   310       5\n8                     Canaletteo Chianti    2017   170      12\n9                      Trimbach Riesling    2018   190      11\n10  Cono Sur Cosecha Noble Late Riesling    2013   125      13\n11  Kloster Eberbach Marcobrunn Riesling    2015   510       2\n12  Kloster Eberbach Marcobrunn Riesling    2017   450       4",
      "text/html": "<div>\n<style scoped>\n    .dataframe tbody tr th:only-of-type {\n        vertical-align: middle;\n    }\n\n    .dataframe tbody tr th {\n        vertical-align: top;\n    }\n\n    .dataframe thead th {\n        text-align: right;\n    }\n</style>\n<table border=\"1\" class=\"dataframe\">\n  <thead>\n    <tr style=\"text-align: right;\">\n      <th></th>\n      <th>Vin</th>\n      <th>Årgang</th>\n      <th>Pris</th>\n      <th>Antall</th>\n    </tr>\n  </thead>\n  <tbody>\n    <tr>\n      <th>0</th>\n      <td>Gran Feudo Crianza</td>\n      <td>2016</td>\n      <td>200</td>\n      <td>4</td>\n    </tr>\n    <tr>\n      <th>1</th>\n      <td>Gran Feudo Crianza</td>\n      <td>2015</td>\n      <td>220</td>\n      <td>1</td>\n    </tr>\n    <tr>\n      <th>2</th>\n      <td>Ch. Bonnet Reserve</td>\n      <td>2014</td>\n      <td>250</td>\n      <td>7</td>\n    </tr>\n    <tr>\n      <th>3</th>\n      <td>Ch. Bonnet Reserve</td>\n      <td>2010</td>\n      <td>190</td>\n      <td>3</td>\n    </tr>\n    <tr>\n      <th>4</th>\n      <td>Ch. Bonnet Reserve</td>\n      <td>2017</td>\n      <td>200</td>\n      <td>4</td>\n    </tr>\n    <tr>\n      <th>5</th>\n      <td>Guerrini Forteguerra Chianti</td>\n      <td>2011</td>\n      <td>280</td>\n      <td>9</td>\n    </tr>\n    <tr>\n      <th>6</th>\n      <td>Periquita</td>\n      <td>2010</td>\n      <td>420</td>\n      <td>3</td>\n    </tr>\n    <tr>\n      <th>7</th>\n      <td>Periquita</td>\n      <td>2014</td>\n      <td>310</td>\n      <td>5</td>\n    </tr>\n    <tr>\n      <th>8</th>\n      <td>Canaletteo Chianti</td>\n      <td>2017</td>\n      <td>170</td>\n      <td>12</td>\n    </tr>\n    <tr>\n      <th>9</th>\n      <td>Trimbach Riesling</td>\n      <td>2018</td>\n      <td>190</td>\n      <td>11</td>\n    </tr>\n    <tr>\n      <th>10</th>\n      <td>Cono Sur Cosecha Noble Late Riesling</td>\n      <td>2013</td>\n      <td>125</td>\n      <td>13</td>\n    </tr>\n    <tr>\n      <th>11</th>\n      <td>Kloster Eberbach Marcobrunn Riesling</td>\n      <td>2015</td>\n      <td>510</td>\n      <td>2</td>\n    </tr>\n    <tr>\n      <th>12</th>\n      <td>Kloster Eberbach Marcobrunn Riesling</td>\n      <td>2017</td>\n      <td>450</td>\n      <td>4</td>\n    </tr>\n  </tbody>\n</table>\n</div>"
     },
     "execution_count": 91,
     "metadata": {},
     "output_type": "execute_result"
    }
   ],
   "source": [
    "# Oppg 3\n",
    "# A)\n",
    "\n",
    "vin = pd.read_csv('viner.csv', sep='\\t')\n",
    "distrikt = pd.read_csv('distrikter.csv', sep='\\t')\n",
    "land = pd.read_csv('land.csv', sep='\\t')\n",
    "vin"
   ],
   "metadata": {
    "collapsed": false,
    "ExecuteTime": {
     "end_time": "2023-10-23T13:45:30.204064900Z",
     "start_time": "2023-10-23T13:45:30.024885100Z"
    }
   },
   "id": "8cf967a9fd7f627b"
  },
  {
   "cell_type": "code",
   "execution_count": 92,
   "outputs": [
    {
     "data": {
      "text/plain": "                                    Vin        Distrikt\n0                    Gran Feudo Crianza         Navarra\n1                    Ch. Bonnet Reserve        Bordeaux\n2          Guerrini Forteguerra Chianti         Toscana\n3                             Periquita         Setubal\n4                    Canaletteo Chianti         Toscana\n5                     Trimbach Riesling          Alsace\n6  Cono Sur Cosecha Noble Late Riesling  Bio-Bio Valley\n7  Kloster Eberbach Marcobrunn Riesling        RheinGau",
      "text/html": "<div>\n<style scoped>\n    .dataframe tbody tr th:only-of-type {\n        vertical-align: middle;\n    }\n\n    .dataframe tbody tr th {\n        vertical-align: top;\n    }\n\n    .dataframe thead th {\n        text-align: right;\n    }\n</style>\n<table border=\"1\" class=\"dataframe\">\n  <thead>\n    <tr style=\"text-align: right;\">\n      <th></th>\n      <th>Vin</th>\n      <th>Distrikt</th>\n    </tr>\n  </thead>\n  <tbody>\n    <tr>\n      <th>0</th>\n      <td>Gran Feudo Crianza</td>\n      <td>Navarra</td>\n    </tr>\n    <tr>\n      <th>1</th>\n      <td>Ch. Bonnet Reserve</td>\n      <td>Bordeaux</td>\n    </tr>\n    <tr>\n      <th>2</th>\n      <td>Guerrini Forteguerra Chianti</td>\n      <td>Toscana</td>\n    </tr>\n    <tr>\n      <th>3</th>\n      <td>Periquita</td>\n      <td>Setubal</td>\n    </tr>\n    <tr>\n      <th>4</th>\n      <td>Canaletteo Chianti</td>\n      <td>Toscana</td>\n    </tr>\n    <tr>\n      <th>5</th>\n      <td>Trimbach Riesling</td>\n      <td>Alsace</td>\n    </tr>\n    <tr>\n      <th>6</th>\n      <td>Cono Sur Cosecha Noble Late Riesling</td>\n      <td>Bio-Bio Valley</td>\n    </tr>\n    <tr>\n      <th>7</th>\n      <td>Kloster Eberbach Marcobrunn Riesling</td>\n      <td>RheinGau</td>\n    </tr>\n  </tbody>\n</table>\n</div>"
     },
     "execution_count": 92,
     "metadata": {},
     "output_type": "execute_result"
    }
   ],
   "source": [
    "distrikt"
   ],
   "metadata": {
    "collapsed": false,
    "ExecuteTime": {
     "end_time": "2023-10-23T13:45:30.205065800Z",
     "start_time": "2023-10-23T13:45:30.043699Z"
    }
   },
   "id": "152f53a205d6755"
  },
  {
   "cell_type": "code",
   "execution_count": 93,
   "outputs": [
    {
     "data": {
      "text/plain": "         Distrikt       Land\n0         Navarra     Spania\n1        Bordeaux  Frankrike\n2         Toscana     Italia\n3         Setubal   Portugal\n4          Alsace  Frankrike\n5  Bio-Bio Valley      Chile\n6        RheinGau   Tyskland",
      "text/html": "<div>\n<style scoped>\n    .dataframe tbody tr th:only-of-type {\n        vertical-align: middle;\n    }\n\n    .dataframe tbody tr th {\n        vertical-align: top;\n    }\n\n    .dataframe thead th {\n        text-align: right;\n    }\n</style>\n<table border=\"1\" class=\"dataframe\">\n  <thead>\n    <tr style=\"text-align: right;\">\n      <th></th>\n      <th>Distrikt</th>\n      <th>Land</th>\n    </tr>\n  </thead>\n  <tbody>\n    <tr>\n      <th>0</th>\n      <td>Navarra</td>\n      <td>Spania</td>\n    </tr>\n    <tr>\n      <th>1</th>\n      <td>Bordeaux</td>\n      <td>Frankrike</td>\n    </tr>\n    <tr>\n      <th>2</th>\n      <td>Toscana</td>\n      <td>Italia</td>\n    </tr>\n    <tr>\n      <th>3</th>\n      <td>Setubal</td>\n      <td>Portugal</td>\n    </tr>\n    <tr>\n      <th>4</th>\n      <td>Alsace</td>\n      <td>Frankrike</td>\n    </tr>\n    <tr>\n      <th>5</th>\n      <td>Bio-Bio Valley</td>\n      <td>Chile</td>\n    </tr>\n    <tr>\n      <th>6</th>\n      <td>RheinGau</td>\n      <td>Tyskland</td>\n    </tr>\n  </tbody>\n</table>\n</div>"
     },
     "execution_count": 93,
     "metadata": {},
     "output_type": "execute_result"
    }
   ],
   "source": [
    "land"
   ],
   "metadata": {
    "collapsed": false,
    "ExecuteTime": {
     "end_time": "2023-10-23T13:45:30.206064100Z",
     "start_time": "2023-10-23T13:45:30.056699600Z"
    }
   },
   "id": "396e8124162a6fc3"
  },
  {
   "cell_type": "code",
   "execution_count": 94,
   "outputs": [
    {
     "data": {
      "text/plain": "                                     Vin  Årgang  Pris  Antall\n5           Guerrini Forteguerra Chianti    2011   280       9\n6                              Periquita    2010   420       3\n7                              Periquita    2014   310       5\n11  Kloster Eberbach Marcobrunn Riesling    2015   510       2\n12  Kloster Eberbach Marcobrunn Riesling    2017   450       4",
      "text/html": "<div>\n<style scoped>\n    .dataframe tbody tr th:only-of-type {\n        vertical-align: middle;\n    }\n\n    .dataframe tbody tr th {\n        vertical-align: top;\n    }\n\n    .dataframe thead th {\n        text-align: right;\n    }\n</style>\n<table border=\"1\" class=\"dataframe\">\n  <thead>\n    <tr style=\"text-align: right;\">\n      <th></th>\n      <th>Vin</th>\n      <th>Årgang</th>\n      <th>Pris</th>\n      <th>Antall</th>\n    </tr>\n  </thead>\n  <tbody>\n    <tr>\n      <th>5</th>\n      <td>Guerrini Forteguerra Chianti</td>\n      <td>2011</td>\n      <td>280</td>\n      <td>9</td>\n    </tr>\n    <tr>\n      <th>6</th>\n      <td>Periquita</td>\n      <td>2010</td>\n      <td>420</td>\n      <td>3</td>\n    </tr>\n    <tr>\n      <th>7</th>\n      <td>Periquita</td>\n      <td>2014</td>\n      <td>310</td>\n      <td>5</td>\n    </tr>\n    <tr>\n      <th>11</th>\n      <td>Kloster Eberbach Marcobrunn Riesling</td>\n      <td>2015</td>\n      <td>510</td>\n      <td>2</td>\n    </tr>\n    <tr>\n      <th>12</th>\n      <td>Kloster Eberbach Marcobrunn Riesling</td>\n      <td>2017</td>\n      <td>450</td>\n      <td>4</td>\n    </tr>\n  </tbody>\n</table>\n</div>"
     },
     "execution_count": 94,
     "metadata": {},
     "output_type": "execute_result"
    }
   ],
   "source": [
    "snittPris = vin['Pris'].mean()\n",
    "overSnitt = vin[vin['Pris'] > snittPris]  # [['Vin','Årgang', 'Pris']] <- Not needed imo\n",
    "overSnitt"
   ],
   "metadata": {
    "collapsed": false,
    "ExecuteTime": {
     "end_time": "2023-10-23T13:45:30.206675100Z",
     "start_time": "2023-10-23T13:45:30.078637100Z"
    }
   },
   "id": "c46640478ad70b61"
  },
  {
   "cell_type": "code",
   "execution_count": 95,
   "outputs": [],
   "source": [
    "kobling1 = vin.merge(distrikt)\n",
    "kobling2 = kobling1.merge(land)\n",
    "fransk = kobling2[kobling2['Land'] == 'Frankrike']['Vin'].drop_duplicates()"
   ],
   "metadata": {
    "collapsed": false,
    "ExecuteTime": {
     "end_time": "2023-10-23T13:45:30.257827Z",
     "start_time": "2023-10-23T13:45:30.088636600Z"
    }
   },
   "id": "ed57cae320e17551"
  },
  {
   "cell_type": "code",
   "execution_count": 96,
   "outputs": [
    {
     "data": {
      "text/plain": "                                     Vin  Årgang  Pris  Antall  \\\n0                     Gran Feudo Crianza    2016   200       4   \n1                     Gran Feudo Crianza    2015   220       1   \n2                     Ch. Bonnet Reserve    2014   250       7   \n3                     Ch. Bonnet Reserve    2010   190       3   \n4                     Ch. Bonnet Reserve    2017   200       4   \n5           Guerrini Forteguerra Chianti    2011   280       9   \n6                     Canaletteo Chianti    2017   170      12   \n7                              Periquita    2010   420       3   \n8                              Periquita    2014   310       5   \n9                      Trimbach Riesling    2018   190      11   \n10  Cono Sur Cosecha Noble Late Riesling    2013   125      13   \n11  Kloster Eberbach Marcobrunn Riesling    2015   510       2   \n12  Kloster Eberbach Marcobrunn Riesling    2017   450       4   \n\n          Distrikt       Land  \n0          Navarra     Spania  \n1          Navarra     Spania  \n2         Bordeaux  Frankrike  \n3         Bordeaux  Frankrike  \n4         Bordeaux  Frankrike  \n5          Toscana     Italia  \n6          Toscana     Italia  \n7          Setubal   Portugal  \n8          Setubal   Portugal  \n9           Alsace  Frankrike  \n10  Bio-Bio Valley      Chile  \n11        RheinGau   Tyskland  \n12        RheinGau   Tyskland  ",
      "text/html": "<div>\n<style scoped>\n    .dataframe tbody tr th:only-of-type {\n        vertical-align: middle;\n    }\n\n    .dataframe tbody tr th {\n        vertical-align: top;\n    }\n\n    .dataframe thead th {\n        text-align: right;\n    }\n</style>\n<table border=\"1\" class=\"dataframe\">\n  <thead>\n    <tr style=\"text-align: right;\">\n      <th></th>\n      <th>Vin</th>\n      <th>Årgang</th>\n      <th>Pris</th>\n      <th>Antall</th>\n      <th>Distrikt</th>\n      <th>Land</th>\n    </tr>\n  </thead>\n  <tbody>\n    <tr>\n      <th>0</th>\n      <td>Gran Feudo Crianza</td>\n      <td>2016</td>\n      <td>200</td>\n      <td>4</td>\n      <td>Navarra</td>\n      <td>Spania</td>\n    </tr>\n    <tr>\n      <th>1</th>\n      <td>Gran Feudo Crianza</td>\n      <td>2015</td>\n      <td>220</td>\n      <td>1</td>\n      <td>Navarra</td>\n      <td>Spania</td>\n    </tr>\n    <tr>\n      <th>2</th>\n      <td>Ch. Bonnet Reserve</td>\n      <td>2014</td>\n      <td>250</td>\n      <td>7</td>\n      <td>Bordeaux</td>\n      <td>Frankrike</td>\n    </tr>\n    <tr>\n      <th>3</th>\n      <td>Ch. Bonnet Reserve</td>\n      <td>2010</td>\n      <td>190</td>\n      <td>3</td>\n      <td>Bordeaux</td>\n      <td>Frankrike</td>\n    </tr>\n    <tr>\n      <th>4</th>\n      <td>Ch. Bonnet Reserve</td>\n      <td>2017</td>\n      <td>200</td>\n      <td>4</td>\n      <td>Bordeaux</td>\n      <td>Frankrike</td>\n    </tr>\n    <tr>\n      <th>5</th>\n      <td>Guerrini Forteguerra Chianti</td>\n      <td>2011</td>\n      <td>280</td>\n      <td>9</td>\n      <td>Toscana</td>\n      <td>Italia</td>\n    </tr>\n    <tr>\n      <th>6</th>\n      <td>Canaletteo Chianti</td>\n      <td>2017</td>\n      <td>170</td>\n      <td>12</td>\n      <td>Toscana</td>\n      <td>Italia</td>\n    </tr>\n    <tr>\n      <th>7</th>\n      <td>Periquita</td>\n      <td>2010</td>\n      <td>420</td>\n      <td>3</td>\n      <td>Setubal</td>\n      <td>Portugal</td>\n    </tr>\n    <tr>\n      <th>8</th>\n      <td>Periquita</td>\n      <td>2014</td>\n      <td>310</td>\n      <td>5</td>\n      <td>Setubal</td>\n      <td>Portugal</td>\n    </tr>\n    <tr>\n      <th>9</th>\n      <td>Trimbach Riesling</td>\n      <td>2018</td>\n      <td>190</td>\n      <td>11</td>\n      <td>Alsace</td>\n      <td>Frankrike</td>\n    </tr>\n    <tr>\n      <th>10</th>\n      <td>Cono Sur Cosecha Noble Late Riesling</td>\n      <td>2013</td>\n      <td>125</td>\n      <td>13</td>\n      <td>Bio-Bio Valley</td>\n      <td>Chile</td>\n    </tr>\n    <tr>\n      <th>11</th>\n      <td>Kloster Eberbach Marcobrunn Riesling</td>\n      <td>2015</td>\n      <td>510</td>\n      <td>2</td>\n      <td>RheinGau</td>\n      <td>Tyskland</td>\n    </tr>\n    <tr>\n      <th>12</th>\n      <td>Kloster Eberbach Marcobrunn Riesling</td>\n      <td>2017</td>\n      <td>450</td>\n      <td>4</td>\n      <td>RheinGau</td>\n      <td>Tyskland</td>\n    </tr>\n  </tbody>\n</table>\n</div>"
     },
     "execution_count": 96,
     "metadata": {},
     "output_type": "execute_result"
    }
   ],
   "source": [
    "kobling2"
   ],
   "metadata": {
    "collapsed": false,
    "ExecuteTime": {
     "end_time": "2023-10-23T13:45:30.320086300Z",
     "start_time": "2023-10-23T13:45:30.105210600Z"
    }
   },
   "id": "16ee24b308f79d9a"
  },
  {
   "cell_type": "code",
   "execution_count": 97,
   "outputs": [
    {
     "data": {
      "text/plain": "2    Ch. Bonnet Reserve\n9     Trimbach Riesling\nName: Vin, dtype: object"
     },
     "execution_count": 97,
     "metadata": {},
     "output_type": "execute_result"
    }
   ],
   "source": [
    "fransk"
   ],
   "metadata": {
    "collapsed": false,
    "ExecuteTime": {
     "end_time": "2023-10-23T13:45:30.411881500Z",
     "start_time": "2023-10-23T13:45:30.120561100Z"
    }
   },
   "id": "823d2abee37c8af1"
  },
  {
   "cell_type": "code",
   "execution_count": 98,
   "outputs": [
    {
     "data": {
      "text/plain": "Distrikt\nAlsace            1\nBio-Bio Valley    1\nBordeaux          3\nNavarra           2\nRheinGau          2\nSetubal           2\nToscana           2\nName: Distrikt, dtype: int64"
     },
     "execution_count": 98,
     "metadata": {},
     "output_type": "execute_result"
    }
   ],
   "source": [
    "# c) Finn antallet viner fra hvert distrikt\n",
    "kobling10 = vin.merge(distrikt)\n",
    "antall = kobling10.groupby('Distrikt')['Distrikt'].count()\n",
    "antall"
   ],
   "metadata": {
    "collapsed": false,
    "ExecuteTime": {
     "end_time": "2023-10-23T13:45:30.454193300Z",
     "start_time": "2023-10-23T13:45:30.136002500Z"
    }
   },
   "id": "bc0cf821430a19d2"
  },
  {
   "cell_type": "code",
   "execution_count": 99,
   "outputs": [],
   "source": [
    "# d) Filen terningkast.csv er lastet ned fra et mat-magasin sin vintest.\n",
    "terning = pd.read_csv('terningkast.csv', sep=';')\n",
    "vinÅrPar = terning['Vin'].str.split('/')\n",
    "terning['Vin'] = vinÅrPar.str.get(0)\n",
    "# terning['År'] = vinÅrPar.str.get(1)\n",
    "terning.insert(1, column='År', value=vinÅrPar.str.get(1))\n",
    "terning.sort_values(by='Terningkast', inplace=True, ascending=False)\n",
    "terning.reset_index(drop=True, inplace=True)"
   ],
   "metadata": {
    "collapsed": false,
    "ExecuteTime": {
     "end_time": "2023-10-23T13:45:30.455260300Z",
     "start_time": "2023-10-23T13:45:30.150596900Z"
    }
   },
   "id": "3e316696e8ece99e"
  },
  {
   "cell_type": "code",
   "execution_count": 100,
   "outputs": [
    {
     "data": {
      "text/plain": "                           Vin    År  Terningkast\n0           Felsina Berardenga  2012            6\n1                    Periquita  2014            6\n2           Gran Feudo Crianza  2015            6\n3   Colombier Crozes Hermitage  2019            6\n4                   Passorosso  2014            5\n5           Ch. Bonnet Reserve  2014            5\n6               Moonlight Race  2019            5\n7             Hawkes Bay Syrah  2020            5\n8                       Monest  2021            4\n9              Langhe Nebbiolo  2019            4\n10                Cune Crianza  2019            4\n11           Trimbach Riesling  2018            3\n12                      Barolo  2018            3\n13        The Butcher Zweigelt  2022            3",
      "text/html": "<div>\n<style scoped>\n    .dataframe tbody tr th:only-of-type {\n        vertical-align: middle;\n    }\n\n    .dataframe tbody tr th {\n        vertical-align: top;\n    }\n\n    .dataframe thead th {\n        text-align: right;\n    }\n</style>\n<table border=\"1\" class=\"dataframe\">\n  <thead>\n    <tr style=\"text-align: right;\">\n      <th></th>\n      <th>Vin</th>\n      <th>År</th>\n      <th>Terningkast</th>\n    </tr>\n  </thead>\n  <tbody>\n    <tr>\n      <th>0</th>\n      <td>Felsina Berardenga</td>\n      <td>2012</td>\n      <td>6</td>\n    </tr>\n    <tr>\n      <th>1</th>\n      <td>Periquita</td>\n      <td>2014</td>\n      <td>6</td>\n    </tr>\n    <tr>\n      <th>2</th>\n      <td>Gran Feudo Crianza</td>\n      <td>2015</td>\n      <td>6</td>\n    </tr>\n    <tr>\n      <th>3</th>\n      <td>Colombier Crozes Hermitage</td>\n      <td>2019</td>\n      <td>6</td>\n    </tr>\n    <tr>\n      <th>4</th>\n      <td>Passorosso</td>\n      <td>2014</td>\n      <td>5</td>\n    </tr>\n    <tr>\n      <th>5</th>\n      <td>Ch. Bonnet Reserve</td>\n      <td>2014</td>\n      <td>5</td>\n    </tr>\n    <tr>\n      <th>6</th>\n      <td>Moonlight Race</td>\n      <td>2019</td>\n      <td>5</td>\n    </tr>\n    <tr>\n      <th>7</th>\n      <td>Hawkes Bay Syrah</td>\n      <td>2020</td>\n      <td>5</td>\n    </tr>\n    <tr>\n      <th>8</th>\n      <td>Monest</td>\n      <td>2021</td>\n      <td>4</td>\n    </tr>\n    <tr>\n      <th>9</th>\n      <td>Langhe Nebbiolo</td>\n      <td>2019</td>\n      <td>4</td>\n    </tr>\n    <tr>\n      <th>10</th>\n      <td>Cune Crianza</td>\n      <td>2019</td>\n      <td>4</td>\n    </tr>\n    <tr>\n      <th>11</th>\n      <td>Trimbach Riesling</td>\n      <td>2018</td>\n      <td>3</td>\n    </tr>\n    <tr>\n      <th>12</th>\n      <td>Barolo</td>\n      <td>2018</td>\n      <td>3</td>\n    </tr>\n    <tr>\n      <th>13</th>\n      <td>The Butcher Zweigelt</td>\n      <td>2022</td>\n      <td>3</td>\n    </tr>\n  </tbody>\n</table>\n</div>"
     },
     "execution_count": 100,
     "metadata": {},
     "output_type": "execute_result"
    }
   ],
   "source": [
    "terning"
   ],
   "metadata": {
    "collapsed": false,
    "ExecuteTime": {
     "end_time": "2023-10-23T13:45:30.456262400Z",
     "start_time": "2023-10-23T13:45:30.165596600Z"
    }
   },
   "id": "b4c281e24799316c"
  },
  {
   "cell_type": "code",
   "execution_count": 106,
   "outputs": [
    {
     "data": {
      "text/plain": "                  Vin    År\n0  Gran Feudo Crianza  2015\n1  Ch. Bonnet Reserve  2014\n2           Periquita  2014",
      "text/html": "<div>\n<style scoped>\n    .dataframe tbody tr th:only-of-type {\n        vertical-align: middle;\n    }\n\n    .dataframe tbody tr th {\n        vertical-align: top;\n    }\n\n    .dataframe thead th {\n        text-align: right;\n    }\n</style>\n<table border=\"1\" class=\"dataframe\">\n  <thead>\n    <tr style=\"text-align: right;\">\n      <th></th>\n      <th>Vin</th>\n      <th>År</th>\n    </tr>\n  </thead>\n  <tbody>\n    <tr>\n      <th>0</th>\n      <td>Gran Feudo Crianza</td>\n      <td>2015</td>\n    </tr>\n    <tr>\n      <th>1</th>\n      <td>Ch. Bonnet Reserve</td>\n      <td>2014</td>\n    </tr>\n    <tr>\n      <th>2</th>\n      <td>Periquita</td>\n      <td>2014</td>\n    </tr>\n  </tbody>\n</table>\n</div>"
     },
     "execution_count": 106,
     "metadata": {},
     "output_type": "execute_result"
    }
   ],
   "source": [
    "# e)\n",
    "terning['År'] = terning['År'].astype('int')\n",
    "kobling11 = vin.merge(terning, left_on=['Vin', 'Årgang'], right_on=['Vin', 'År'])\n",
    "anbefalt2 = kobling11[kobling11['Terningkast'] > 4][['Vin', 'År']]  # vin[vin['Pris'] > snittPris]\n",
    "anbefalt2"
   ],
   "metadata": {
    "collapsed": false,
    "ExecuteTime": {
     "end_time": "2023-10-23T13:49:36.470770300Z",
     "start_time": "2023-10-23T13:49:36.448618700Z"
    }
   },
   "id": "b98a339ce6d56d17"
  },
  {
   "cell_type": "code",
   "execution_count": 107,
   "outputs": [],
   "source": [
    "terning['År']=terning['År'].astype('int') #År er lagret som tekst pga .str.split\n",
    "kobling=vin.merge(terning, left_on=['Vin','Årgang'], right_on=['Vin','År'])\n",
    "anbefalt=kobling[kobling['Terningkast']>4][['Vin','Årgang']]"
   ],
   "metadata": {
    "collapsed": false,
    "ExecuteTime": {
     "end_time": "2023-10-23T13:49:37.877830500Z",
     "start_time": "2023-10-23T13:49:37.865895900Z"
    }
   },
   "id": "5a30705fbcda4f8a"
  },
  {
   "cell_type": "code",
   "execution_count": 103,
   "outputs": [
    {
     "data": {
      "text/plain": "                  Vin  Årgang\n0  Gran Feudo Crianza    2015\n1  Ch. Bonnet Reserve    2014\n2           Periquita    2014",
      "text/html": "<div>\n<style scoped>\n    .dataframe tbody tr th:only-of-type {\n        vertical-align: middle;\n    }\n\n    .dataframe tbody tr th {\n        vertical-align: top;\n    }\n\n    .dataframe thead th {\n        text-align: right;\n    }\n</style>\n<table border=\"1\" class=\"dataframe\">\n  <thead>\n    <tr style=\"text-align: right;\">\n      <th></th>\n      <th>Vin</th>\n      <th>Årgang</th>\n    </tr>\n  </thead>\n  <tbody>\n    <tr>\n      <th>0</th>\n      <td>Gran Feudo Crianza</td>\n      <td>2015</td>\n    </tr>\n    <tr>\n      <th>1</th>\n      <td>Ch. Bonnet Reserve</td>\n      <td>2014</td>\n    </tr>\n    <tr>\n      <th>2</th>\n      <td>Periquita</td>\n      <td>2014</td>\n    </tr>\n  </tbody>\n</table>\n</div>"
     },
     "execution_count": 103,
     "metadata": {},
     "output_type": "execute_result"
    }
   ],
   "source": [
    "anbefalt"
   ],
   "metadata": {
    "collapsed": false,
    "ExecuteTime": {
     "end_time": "2023-10-23T13:45:30.639614600Z",
     "start_time": "2023-10-23T13:45:30.213669400Z"
    }
   },
   "id": "bcf2e86747f88c1"
  },
  {
   "cell_type": "code",
   "execution_count": 103,
   "outputs": [],
   "source": [],
   "metadata": {
    "collapsed": false,
    "ExecuteTime": {
     "end_time": "2023-10-23T13:45:30.648614200Z",
     "start_time": "2023-10-23T13:45:30.229668200Z"
    }
   },
   "id": "4eb87f6fb41ea2a2"
  }
 ],
 "metadata": {
  "kernelspec": {
   "display_name": "Python 3",
   "language": "python",
   "name": "python3"
  },
  "language_info": {
   "codemirror_mode": {
    "name": "ipython",
    "version": 2
   },
   "file_extension": ".py",
   "mimetype": "text/x-python",
   "name": "python",
   "nbconvert_exporter": "python",
   "pygments_lexer": "ipython2",
   "version": "2.7.6"
  }
 },
 "nbformat": 4,
 "nbformat_minor": 5
}
