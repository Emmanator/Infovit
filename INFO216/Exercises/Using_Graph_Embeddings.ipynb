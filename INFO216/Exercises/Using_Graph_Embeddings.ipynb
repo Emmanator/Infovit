{
 "cells": [
  {
   "cell_type": "code",
   "execution_count": 3,
   "outputs": [
    {
     "name": "stderr",
     "output_type": "stream",
     "text": [
      "c:\\users\\jakoa\\pycharmprojects\\infovit\\venv\\lib\\site-packages\\torchkge\\utils\\data_redundancy.py:11: TqdmExperimentalWarning: Using `tqdm.autonotebook.tqdm` in notebook mode. Use `tqdm.tqdm` instead to force console mode (e.g. in jupyter console)\n",
      "  from tqdm.autonotebook import tqdm\n"
     ]
    },
    {
     "name": "stdout",
     "output_type": "stream",
     "text": [
      "['/m/0zlgm', '/m/0zlt9', '/m/0zm1', '/m/0zpfy', '/m/0zq7r', '/m/0zqq', '/m/0zqq8', '/m/0zrlp', '/m/0zygc', '/m/0zz6w']\n",
      "['/tv/tv_program/genre', '/tv/tv_program/languages', '/tv/tv_program/program_creator', '/tv/tv_program/regular_cast./tv/regular_tv_appearance/actor', '/tv/tv_program/tv_producer./tv/tv_producer_term/producer_type', '/tv/tv_writer/tv_programs./tv/tv_program_writer_relationship/tv_program', '/user/alexander/philosophy/philosopher/interests', '/user/jg/default_domain/olympic_games/sports', '/user/ktrueman/default_domain/international_organization/member_states', '/user/tsegaran/random/taxonomy_subject/entry./user/tsegaran/random/taxonomy_entry/taxonomy']\n"
     ]
    }
   ],
   "source": [
    "from torchkge.utils.datasets import load_fb15k237\n",
    "\n",
    "kg_train, kg_val, kg_test = load_fb15k237()\n",
    "\n",
    "print(list(kg_train.ent2ix.keys())[-10:])\n",
    "print(list(kg_train.rel2ix.keys())[-10:])\n"
   ],
   "metadata": {
    "collapsed": false,
    "ExecuteTime": {
     "start_time": "2023-04-19T13:53:17.457681Z",
     "end_time": "2023-04-19T13:53:31.719284Z"
    }
   }
  },
  {
   "cell_type": "code",
   "execution_count": 6,
   "outputs": [
    {
     "name": "stdout",
     "output_type": "stream",
     "text": [
      "['Reading', 'Altoona', 'Anton Chekhov', 'Johnstown', 'Vertigo', 'canton of Aargau', 'State College', 'West Chester', 'Chester', 'Erie']\n"
     ]
    }
   ],
   "source": [
    "\"\"\"Download files with human-readable labels for (most) Freebase entities used in the dataset.\n",
    "Labels seem to be missing for some entities used in FB15k-237.\"\"\"\n",
    "\n",
    "import json\n",
    "\n",
    "TEXT_TRIPLES_DIR = 'datasets_knowledge_embedding/FB15k-237/'\n",
    "with open(TEXT_TRIPLES_DIR+'entity2wikidata.json') as file:\n",
    "    _entity2wikidata = json.load(file)\n",
    "\n",
    "ent2lbl = {\n",
    "    ent: wd['label']\n",
    "    for ent, wd in _entity2wikidata.items()\n",
    "}\n",
    "lbl2ent = {lbl: ent for ent, lbl in ent2lbl.items()}\n",
    "\n",
    "print([ent2lbl[ent]\n",
    "    for ent in kg_train.ent2ix.keys()\n",
    "    if ent in ent2lbl][-10:])"
   ],
   "metadata": {
    "collapsed": false,
    "ExecuteTime": {
     "start_time": "2023-04-19T13:54:05.872874Z",
     "end_time": "2023-04-19T13:54:05.935621Z"
    }
   }
  },
  {
   "cell_type": "code",
   "execution_count": 9,
   "outputs": [
    {
     "name": "stdout",
     "output_type": "stream",
     "text": [
      "14541 237 20466\n",
      "14541 237 17535\n",
      "14541 237 272115\n"
     ]
    }
   ],
   "source": [
    "print(kg_test.n_ent, kg_test.n_rel, kg_test.n_facts)\n",
    "print(kg_val.n_ent, kg_val.n_rel, kg_val.n_facts)\n",
    "print(kg_train.n_ent, kg_train.n_rel, kg_train.n_facts)"
   ],
   "metadata": {
    "collapsed": false,
    "ExecuteTime": {
     "start_time": "2023-04-19T14:04:56.304999Z",
     "end_time": "2023-04-19T14:04:56.314829Z"
    }
   }
  },
  {
   "cell_type": "code",
   "execution_count": 49,
   "outputs": [],
   "source": [
    "ID = lbl2ent['Jessica Chastain']\n",
    "IDTolkie = lbl2ent['J. R. R. Tolkien']\n",
    "IDLewies = lbl2ent['C. S. Lewis']\n",
    "\n",
    "haha = kg_train.ent2ix[ID]\n",
    "tolkienix = kg_train.ent2ix[IDTolkie]\n",
    "lewisix = kg_train.ent2ix[IDLewies]"
   ],
   "metadata": {
    "collapsed": false,
    "ExecuteTime": {
     "start_time": "2023-04-19T14:48:32.169466Z",
     "end_time": "2023-04-19T14:48:32.176302Z"
    }
   }
  },
  {
   "cell_type": "code",
   "execution_count": 50,
   "outputs": [],
   "source": [
    "from torchkge.utils.pretrained_models import load_pretrained_transe\n",
    "from torch import tensor\n",
    "\n",
    "wallE = tensor(haha)\n",
    "tolkien = tensor(tolkienix)\n",
    "lewis = tensor(lewisix)\n",
    "\n",
    "transE = load_pretrained_transe('fb15k237')\n",
    "\n",
    "tolkienvector = transE.ent_emb(tolkien)\n",
    "lewisvector = transE.ent_emb(wallE)"
   ],
   "metadata": {
    "collapsed": false,
    "ExecuteTime": {
     "start_time": "2023-04-19T14:48:32.810350Z",
     "end_time": "2023-04-19T14:48:32.850204Z"
    }
   }
  },
  {
   "cell_type": "code",
   "execution_count": 51,
   "outputs": [
    {
     "data": {
      "text/plain": "tensor(2.0944, grad_fn=<PowBackward0>)"
     },
     "execution_count": 51,
     "metadata": {},
     "output_type": "execute_result"
    }
   ],
   "source": [
    "transE.dissimilarity(tolkienvector, lewisvector)"
   ],
   "metadata": {
    "collapsed": false,
    "ExecuteTime": {
     "start_time": "2023-04-19T14:48:33.394231Z",
     "end_time": "2023-04-19T14:48:33.399439Z"
    }
   }
  },
  {
   "cell_type": "code",
   "execution_count": null,
   "outputs": [],
   "source": [],
   "metadata": {
    "collapsed": false
   }
  }
 ],
 "metadata": {
  "kernelspec": {
   "display_name": "Python 3",
   "language": "python",
   "name": "python3"
  },
  "language_info": {
   "codemirror_mode": {
    "name": "ipython",
    "version": 2
   },
   "file_extension": ".py",
   "mimetype": "text/x-python",
   "name": "python",
   "nbconvert_exporter": "python",
   "pygments_lexer": "ipython2",
   "version": "2.7.6"
  }
 },
 "nbformat": 4,
 "nbformat_minor": 0
}
