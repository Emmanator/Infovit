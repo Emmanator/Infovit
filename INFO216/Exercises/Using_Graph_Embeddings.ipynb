{
 "cells": [
  {
   "cell_type": "code",
   "execution_count": 3,
   "metadata": {
    "ExecuteTime": {
     "start_time": "2023-04-28T10:44:27.613825Z",
     "end_time": "2023-04-28T10:44:29.763824Z"
    }
   },
   "outputs": [
    {
     "name": "stdout",
     "output_type": "stream",
     "text": [
      "Defaulting to user installation because normal site-packages is not writeable\n",
      "Requirement already satisfied: pip in c:\\users\\jakoa\\appdata\\roaming\\python\\python310\\site-packages (23.1.2)\n"
     ]
    }
   ],
   "source": [
    "!py -m pip install --upgrade pip\n"
   ]
  },
  {
   "cell_type": "code",
   "execution_count": 4,
   "metadata": {
    "ExecuteTime": {
     "start_time": "2023-04-28T10:44:29.763824Z",
     "end_time": "2023-04-28T10:44:40.502816Z"
    }
   },
   "outputs": [
    {
     "name": "stdout",
     "output_type": "stream",
     "text": [
      "['/m/0zlgm', '/m/0zlt9', '/m/0zm1', '/m/0zpfy', '/m/0zq7r', '/m/0zqq', '/m/0zqq8', '/m/0zrlp', '/m/0zygc', '/m/0zz6w']\n",
      "['/tv/tv_program/genre', '/tv/tv_program/languages', '/tv/tv_program/program_creator', '/tv/tv_program/regular_cast./tv/regular_tv_appearance/actor', '/tv/tv_program/tv_producer./tv/tv_producer_term/producer_type', '/tv/tv_writer/tv_programs./tv/tv_program_writer_relationship/tv_program', '/user/alexander/philosophy/philosopher/interests', '/user/jg/default_domain/olympic_games/sports', '/user/ktrueman/default_domain/international_organization/member_states', '/user/tsegaran/random/taxonomy_subject/entry./user/tsegaran/random/taxonomy_entry/taxonomy']\n"
     ]
    }
   ],
   "source": [
    "from torchkge.utils.datasets import load_fb15k237\n",
    "\n",
    "kg_train, kg_val, kg_test = load_fb15k237()\n",
    "\n",
    "print(list(kg_train.ent2ix.keys())[-10:])\n",
    "print(list(kg_train.rel2ix.keys())[-10:])\n"
   ]
  },
  {
   "cell_type": "code",
   "execution_count": 5,
   "metadata": {
    "ExecuteTime": {
     "end_time": "2023-04-19T13:54:05.935621Z",
     "start_time": "2023-04-19T13:54:05.872874Z"
    }
   },
   "outputs": [
    {
     "ename": "FileNotFoundError",
     "evalue": "[Errno 2] No such file or directory: 'datasets_knowledge_embedding/FB15k-237/entity2wikidata.json'",
     "output_type": "error",
     "traceback": [
      "\u001B[1;31m---------------------------------------------------------------------------\u001B[0m",
      "\u001B[1;31mFileNotFoundError\u001B[0m                         Traceback (most recent call last)",
      "Cell \u001B[1;32mIn[5], line 7\u001B[0m\n\u001B[0;32m      4\u001B[0m \u001B[38;5;28;01mimport\u001B[39;00m \u001B[38;5;21;01mjson\u001B[39;00m\n\u001B[0;32m      6\u001B[0m TEXT_TRIPLES_DIR \u001B[38;5;241m=\u001B[39m \u001B[38;5;124m'\u001B[39m\u001B[38;5;124mdatasets_knowledge_embedding/FB15k-237/\u001B[39m\u001B[38;5;124m'\u001B[39m\n\u001B[1;32m----> 7\u001B[0m \u001B[38;5;28;01mwith\u001B[39;00m \u001B[38;5;28;43mopen\u001B[39;49m\u001B[43m(\u001B[49m\u001B[43mTEXT_TRIPLES_DIR\u001B[49m\u001B[38;5;241;43m+\u001B[39;49m\u001B[38;5;124;43m'\u001B[39;49m\u001B[38;5;124;43mentity2wikidata.json\u001B[39;49m\u001B[38;5;124;43m'\u001B[39;49m\u001B[43m)\u001B[49m \u001B[38;5;28;01mas\u001B[39;00m file:\n\u001B[0;32m      8\u001B[0m     _entity2wikidata \u001B[38;5;241m=\u001B[39m json\u001B[38;5;241m.\u001B[39mload(file)\n\u001B[0;32m     10\u001B[0m ent2lbl \u001B[38;5;241m=\u001B[39m {\n\u001B[0;32m     11\u001B[0m     ent: wd[\u001B[38;5;124m'\u001B[39m\u001B[38;5;124mlabel\u001B[39m\u001B[38;5;124m'\u001B[39m]\n\u001B[0;32m     12\u001B[0m     \u001B[38;5;28;01mfor\u001B[39;00m ent, wd \u001B[38;5;129;01min\u001B[39;00m _entity2wikidata\u001B[38;5;241m.\u001B[39mitems()\n\u001B[0;32m     13\u001B[0m }\n",
      "File \u001B[1;32mC:\\Program Files\\Python310\\lib\\site-packages\\IPython\\core\\interactiveshell.py:282\u001B[0m, in \u001B[0;36m_modified_open\u001B[1;34m(file, *args, **kwargs)\u001B[0m\n\u001B[0;32m    275\u001B[0m \u001B[38;5;28;01mif\u001B[39;00m file \u001B[38;5;129;01min\u001B[39;00m {\u001B[38;5;241m0\u001B[39m, \u001B[38;5;241m1\u001B[39m, \u001B[38;5;241m2\u001B[39m}:\n\u001B[0;32m    276\u001B[0m     \u001B[38;5;28;01mraise\u001B[39;00m \u001B[38;5;167;01mValueError\u001B[39;00m(\n\u001B[0;32m    277\u001B[0m         \u001B[38;5;124mf\u001B[39m\u001B[38;5;124m\"\u001B[39m\u001B[38;5;124mIPython won\u001B[39m\u001B[38;5;124m'\u001B[39m\u001B[38;5;124mt let you open fd=\u001B[39m\u001B[38;5;132;01m{\u001B[39;00mfile\u001B[38;5;132;01m}\u001B[39;00m\u001B[38;5;124m by default \u001B[39m\u001B[38;5;124m\"\u001B[39m\n\u001B[0;32m    278\u001B[0m         \u001B[38;5;124m\"\u001B[39m\u001B[38;5;124mas it is likely to crash IPython. If you know what you are doing, \u001B[39m\u001B[38;5;124m\"\u001B[39m\n\u001B[0;32m    279\u001B[0m         \u001B[38;5;124m\"\u001B[39m\u001B[38;5;124myou can use builtins\u001B[39m\u001B[38;5;124m'\u001B[39m\u001B[38;5;124m open.\u001B[39m\u001B[38;5;124m\"\u001B[39m\n\u001B[0;32m    280\u001B[0m     )\n\u001B[1;32m--> 282\u001B[0m \u001B[38;5;28;01mreturn\u001B[39;00m io_open(file, \u001B[38;5;241m*\u001B[39margs, \u001B[38;5;241m*\u001B[39m\u001B[38;5;241m*\u001B[39mkwargs)\n",
      "\u001B[1;31mFileNotFoundError\u001B[0m: [Errno 2] No such file or directory: 'datasets_knowledge_embedding/FB15k-237/entity2wikidata.json'"
     ]
    }
   ],
   "source": [
    "\"\"\"Download files with human-readable labels for (most) Freebase entities used in the dataset.\n",
    "Labels seem to be missing for some entities used in FB15k-237.\"\"\"\n",
    "\n",
    "import json\n",
    "\n",
    "TEXT_TRIPLES_DIR = 'datasets_knowledge_embedding/FB15k-237/'\n",
    "with open(TEXT_TRIPLES_DIR+'entity2wikidata.json') as file:\n",
    "    _entity2wikidata = json.load(file)\n",
    "\n",
    "ent2lbl = {\n",
    "    ent: wd['label']\n",
    "    for ent, wd in _entity2wikidata.items()\n",
    "}\n",
    "lbl2ent = {lbl: ent for ent, lbl in ent2lbl.items()}\n",
    "\n",
    "print([ent2lbl[ent]\n",
    "    for ent in kg_train.ent2ix.keys()\n",
    "    if ent in ent2lbl][-10:])"
   ]
  },
  {
   "cell_type": "code",
   "execution_count": null,
   "metadata": {
    "ExecuteTime": {
     "end_time": "2023-04-19T14:04:56.314829Z",
     "start_time": "2023-04-19T14:04:56.304999Z"
    }
   },
   "outputs": [],
   "source": [
    "print(kg_test.n_ent, kg_test.n_rel, kg_test.n_facts)\n",
    "print(kg_val.n_ent, kg_val.n_rel, kg_val.n_facts)\n",
    "print(kg_train.n_ent, kg_train.n_rel, kg_train.n_facts)"
   ]
  },
  {
   "cell_type": "code",
   "execution_count": null,
   "metadata": {
    "ExecuteTime": {
     "end_time": "2023-04-19T14:48:32.176302Z",
     "start_time": "2023-04-19T14:48:32.169466Z"
    }
   },
   "outputs": [],
   "source": [
    "# Task: Test_entities and Relations\n",
    "ID = lbl2ent['Jessica Chastain']\n",
    "IDTolkie = lbl2ent['J. R. R. Tolkien']\n",
    "IDLewies = lbl2ent['C. S. Lewis']\n",
    "\n",
    "IDInfluence = lbl2ent['influenced by']\n",
    "\n",
    "haha = kg_train.ent2ix[ID]\n",
    "tolkienix = kg_train.ent2ix[IDTolkie]\n",
    "lewisix = kg_train.ent2ix[IDLewies]\n",
    "lewisix"
   ]
  },
  {
   "cell_type": "code",
   "execution_count": null,
   "metadata": {
    "ExecuteTime": {
     "end_time": "2023-04-19T14:48:32.850204Z",
     "start_time": "2023-04-19T14:48:32.810350Z"
    }
   },
   "outputs": [],
   "source": [
    "# Task: Model\n",
    "from torchkge.utils.pretrained_models import load_pretrained_transe\n",
    "from torch import tensor\n",
    "\n",
    "wallE = tensor(haha)\n",
    "tolkien = tensor(tolkienix)\n",
    "lewis = tensor(lewisix)\n",
    "\n",
    "transE = load_pretrained_transe('fb15k237')\n",
    "\n",
    "tolkienvector = transE.ent_emb(tolkien)\n",
    "lewisvector = transE.ent_emb(wallE)"
   ]
  },
  {
   "cell_type": "code",
   "execution_count": null,
   "metadata": {
    "ExecuteTime": {
     "end_time": "2023-04-19T14:48:33.399439Z",
     "start_time": "2023-04-19T14:48:33.394231Z"
    }
   },
   "outputs": [],
   "source": [
    "transE.dissimilarity(tolkienvector, lewisvector)"
   ]
  },
  {
   "cell_type": "code",
   "execution_count": null,
   "metadata": {},
   "outputs": [],
   "source": [
    "# Task: K-nearest Neighbour\n"
   ]
  },
  {
   "cell_type": "code",
   "execution_count": null,
   "metadata": {},
   "outputs": [],
   "source": [
    "# Task: Translations"
   ]
  }
 ],
 "metadata": {
  "kernelspec": {
   "display_name": "Python 3 (ipykernel)",
   "language": "python",
   "name": "python3"
  },
  "language_info": {
   "codemirror_mode": {
    "name": "ipython",
    "version": 3
   },
   "file_extension": ".py",
   "mimetype": "text/x-python",
   "name": "python",
   "nbconvert_exporter": "python",
   "pygments_lexer": "ipython3",
   "version": "3.9.13"
  }
 },
 "nbformat": 4,
 "nbformat_minor": 1
}
