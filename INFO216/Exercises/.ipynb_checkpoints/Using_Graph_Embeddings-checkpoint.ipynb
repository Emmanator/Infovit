{
 "cells": [
  {
   "cell_type": "code",
   "execution_count": 5,
   "metadata": {},
   "outputs": [
    {
     "name": "stdout",
     "output_type": "stream",
     "text": [
      "Defaulting to user installation because normal site-packages is not writeable\n",
      "Requirement already satisfied: pip in c:\\users\\jakoa\\appdata\\roaming\\python\\python310\\site-packages (22.3.1)\n",
      "Collecting pip\n",
      "  Downloading pip-23.1.2-py3-none-any.whl (2.1 MB)\n",
      "     ---------------------------------------- 2.1/2.1 MB 4.1 MB/s eta 0:00:00\n",
      "Installing collected packages: pip\n",
      "  Attempting uninstall: pip\n",
      "    Found existing installation: pip 22.3.1\n",
      "    Uninstalling pip-22.3.1:\n",
      "      Successfully uninstalled pip-22.3.1\n",
      "Successfully installed pip-23.1.2\n"
     ]
    },
    {
     "name": "stderr",
     "output_type": "stream",
     "text": [
      "  WARNING: The scripts pip.exe, pip3.10.exe and pip3.exe are installed in 'C:\\Users\\Jakoa\\AppData\\Roaming\\Python\\Python310\\Scripts' which is not on PATH.\n",
      "  Consider adding this directory to PATH or, if you prefer to suppress this warning, use --no-warn-script-location.\n"
     ]
    }
   ],
   "source": [
    "!py -m pip install --upgrade pip\n"
   ]
  },
  {
   "cell_type": "code",
   "execution_count": 4,
   "metadata": {
    "ExecuteTime": {
     "end_time": "2023-04-28T10:40:47.492752Z",
     "start_time": "2023-04-28T10:40:36.790649Z"
    }
   },
   "outputs": [
    {
     "ename": "ModuleNotFoundError",
     "evalue": "No module named 'torchkge'",
     "output_type": "error",
     "traceback": [
      "\u001b[1;31m---------------------------------------------------------------------------\u001b[0m",
      "\u001b[1;31mModuleNotFoundError\u001b[0m                       Traceback (most recent call last)",
      "\u001b[1;32m~\\AppData\\Local\\Temp\\ipykernel_14580\\1179229795.py\u001b[0m in \u001b[0;36m<module>\u001b[1;34m\u001b[0m\n\u001b[1;32m----> 1\u001b[1;33m \u001b[1;32mfrom\u001b[0m \u001b[0mtorchkge\u001b[0m\u001b[1;33m.\u001b[0m\u001b[0mutils\u001b[0m\u001b[1;33m.\u001b[0m\u001b[0mdatasets\u001b[0m \u001b[1;32mimport\u001b[0m \u001b[0mload_fb15k237\u001b[0m\u001b[1;33m\u001b[0m\u001b[1;33m\u001b[0m\u001b[0m\n\u001b[0m\u001b[0;32m      2\u001b[0m \u001b[1;33m\u001b[0m\u001b[0m\n\u001b[0;32m      3\u001b[0m \u001b[0mkg_train\u001b[0m\u001b[1;33m,\u001b[0m \u001b[0mkg_val\u001b[0m\u001b[1;33m,\u001b[0m \u001b[0mkg_test\u001b[0m \u001b[1;33m=\u001b[0m \u001b[0mload_fb15k237\u001b[0m\u001b[1;33m(\u001b[0m\u001b[1;33m)\u001b[0m\u001b[1;33m\u001b[0m\u001b[1;33m\u001b[0m\u001b[0m\n\u001b[0;32m      4\u001b[0m \u001b[1;33m\u001b[0m\u001b[0m\n\u001b[0;32m      5\u001b[0m \u001b[0mprint\u001b[0m\u001b[1;33m(\u001b[0m\u001b[0mlist\u001b[0m\u001b[1;33m(\u001b[0m\u001b[0mkg_train\u001b[0m\u001b[1;33m.\u001b[0m\u001b[0ment2ix\u001b[0m\u001b[1;33m.\u001b[0m\u001b[0mkeys\u001b[0m\u001b[1;33m(\u001b[0m\u001b[1;33m)\u001b[0m\u001b[1;33m)\u001b[0m\u001b[1;33m[\u001b[0m\u001b[1;33m-\u001b[0m\u001b[1;36m10\u001b[0m\u001b[1;33m:\u001b[0m\u001b[1;33m]\u001b[0m\u001b[1;33m)\u001b[0m\u001b[1;33m\u001b[0m\u001b[1;33m\u001b[0m\u001b[0m\n",
      "\u001b[1;31mModuleNotFoundError\u001b[0m: No module named 'torchkge'"
     ]
    }
   ],
   "source": [
    "from torchkge.utils.datasets import load_fb15k237\n",
    "\n",
    "kg_train, kg_val, kg_test = load_fb15k237()\n",
    "\n",
    "print(list(kg_train.ent2ix.keys())[-10:])\n",
    "print(list(kg_train.rel2ix.keys())[-10:])\n"
   ]
  },
  {
   "cell_type": "code",
   "execution_count": 2,
   "metadata": {
    "ExecuteTime": {
     "end_time": "2023-04-19T13:54:05.935621Z",
     "start_time": "2023-04-19T13:54:05.872874Z"
    }
   },
   "outputs": [
    {
     "ename": "FileNotFoundError",
     "evalue": "[Errno 2] No such file or directory: 'datasets_knowledge_embedding/FB15k-237/entity2wikidata.json'",
     "output_type": "error",
     "traceback": [
      "\u001b[1;31m---------------------------------------------------------------------------\u001b[0m",
      "\u001b[1;31mFileNotFoundError\u001b[0m                         Traceback (most recent call last)",
      "Cell \u001b[1;32mIn[2], line 7\u001b[0m\n\u001b[0;32m      4\u001b[0m \u001b[38;5;28;01mimport\u001b[39;00m \u001b[38;5;21;01mjson\u001b[39;00m\n\u001b[0;32m      6\u001b[0m TEXT_TRIPLES_DIR \u001b[38;5;241m=\u001b[39m \u001b[38;5;124m'\u001b[39m\u001b[38;5;124mdatasets_knowledge_embedding/FB15k-237/\u001b[39m\u001b[38;5;124m'\u001b[39m\n\u001b[1;32m----> 7\u001b[0m \u001b[38;5;28;01mwith\u001b[39;00m \u001b[38;5;28;43mopen\u001b[39;49m\u001b[43m(\u001b[49m\u001b[43mTEXT_TRIPLES_DIR\u001b[49m\u001b[38;5;241;43m+\u001b[39;49m\u001b[38;5;124;43m'\u001b[39;49m\u001b[38;5;124;43mentity2wikidata.json\u001b[39;49m\u001b[38;5;124;43m'\u001b[39;49m\u001b[43m)\u001b[49m \u001b[38;5;28;01mas\u001b[39;00m file:\n\u001b[0;32m      8\u001b[0m     _entity2wikidata \u001b[38;5;241m=\u001b[39m json\u001b[38;5;241m.\u001b[39mload(file)\n\u001b[0;32m     10\u001b[0m ent2lbl \u001b[38;5;241m=\u001b[39m {\n\u001b[0;32m     11\u001b[0m     ent: wd[\u001b[38;5;124m'\u001b[39m\u001b[38;5;124mlabel\u001b[39m\u001b[38;5;124m'\u001b[39m]\n\u001b[0;32m     12\u001b[0m     \u001b[38;5;28;01mfor\u001b[39;00m ent, wd \u001b[38;5;129;01min\u001b[39;00m _entity2wikidata\u001b[38;5;241m.\u001b[39mitems()\n\u001b[0;32m     13\u001b[0m }\n",
      "File \u001b[1;32mC:\\Program Files\\Python310\\lib\\site-packages\\IPython\\core\\interactiveshell.py:282\u001b[0m, in \u001b[0;36m_modified_open\u001b[1;34m(file, *args, **kwargs)\u001b[0m\n\u001b[0;32m    275\u001b[0m \u001b[38;5;28;01mif\u001b[39;00m file \u001b[38;5;129;01min\u001b[39;00m {\u001b[38;5;241m0\u001b[39m, \u001b[38;5;241m1\u001b[39m, \u001b[38;5;241m2\u001b[39m}:\n\u001b[0;32m    276\u001b[0m     \u001b[38;5;28;01mraise\u001b[39;00m \u001b[38;5;167;01mValueError\u001b[39;00m(\n\u001b[0;32m    277\u001b[0m         \u001b[38;5;124mf\u001b[39m\u001b[38;5;124m\"\u001b[39m\u001b[38;5;124mIPython won\u001b[39m\u001b[38;5;124m'\u001b[39m\u001b[38;5;124mt let you open fd=\u001b[39m\u001b[38;5;132;01m{\u001b[39;00mfile\u001b[38;5;132;01m}\u001b[39;00m\u001b[38;5;124m by default \u001b[39m\u001b[38;5;124m\"\u001b[39m\n\u001b[0;32m    278\u001b[0m         \u001b[38;5;124m\"\u001b[39m\u001b[38;5;124mas it is likely to crash IPython. If you know what you are doing, \u001b[39m\u001b[38;5;124m\"\u001b[39m\n\u001b[0;32m    279\u001b[0m         \u001b[38;5;124m\"\u001b[39m\u001b[38;5;124myou can use builtins\u001b[39m\u001b[38;5;124m'\u001b[39m\u001b[38;5;124m open.\u001b[39m\u001b[38;5;124m\"\u001b[39m\n\u001b[0;32m    280\u001b[0m     )\n\u001b[1;32m--> 282\u001b[0m \u001b[38;5;28;01mreturn\u001b[39;00m io_open(file, \u001b[38;5;241m*\u001b[39margs, \u001b[38;5;241m*\u001b[39m\u001b[38;5;241m*\u001b[39mkwargs)\n",
      "\u001b[1;31mFileNotFoundError\u001b[0m: [Errno 2] No such file or directory: 'datasets_knowledge_embedding/FB15k-237/entity2wikidata.json'"
     ]
    }
   ],
   "source": [
    "\"\"\"Download files with human-readable labels for (most) Freebase entities used in the dataset.\n",
    "Labels seem to be missing for some entities used in FB15k-237.\"\"\"\n",
    "\n",
    "import json\n",
    "\n",
    "TEXT_TRIPLES_DIR = 'datasets_knowledge_embedding/FB15k-237/'\n",
    "with open(TEXT_TRIPLES_DIR+'entity2wikidata.json') as file:\n",
    "    _entity2wikidata = json.load(file)\n",
    "\n",
    "ent2lbl = {\n",
    "    ent: wd['label']\n",
    "    for ent, wd in _entity2wikidata.items()\n",
    "}\n",
    "lbl2ent = {lbl: ent for ent, lbl in ent2lbl.items()}\n",
    "\n",
    "print([ent2lbl[ent]\n",
    "    for ent in kg_train.ent2ix.keys()\n",
    "    if ent in ent2lbl][-10:])"
   ]
  },
  {
   "cell_type": "code",
   "execution_count": null,
   "metadata": {
    "ExecuteTime": {
     "end_time": "2023-04-19T14:04:56.314829Z",
     "start_time": "2023-04-19T14:04:56.304999Z"
    }
   },
   "outputs": [],
   "source": [
    "print(kg_test.n_ent, kg_test.n_rel, kg_test.n_facts)\n",
    "print(kg_val.n_ent, kg_val.n_rel, kg_val.n_facts)\n",
    "print(kg_train.n_ent, kg_train.n_rel, kg_train.n_facts)"
   ]
  },
  {
   "cell_type": "code",
   "execution_count": null,
   "metadata": {
    "ExecuteTime": {
     "end_time": "2023-04-19T14:48:32.176302Z",
     "start_time": "2023-04-19T14:48:32.169466Z"
    }
   },
   "outputs": [],
   "source": [
    "# Task: Test_entities and Relations\n",
    "ID = lbl2ent['Jessica Chastain']\n",
    "IDTolkie = lbl2ent['J. R. R. Tolkien']\n",
    "IDLewies = lbl2ent['C. S. Lewis']\n",
    "\n",
    "IDInfluence = lbl2ent['influenced by']\n",
    "\n",
    "haha = kg_train.ent2ix[ID]\n",
    "tolkienix = kg_train.ent2ix[IDTolkie]\n",
    "lewisix = kg_train.ent2ix[IDLewies]\n",
    "lewisix"
   ]
  },
  {
   "cell_type": "code",
   "execution_count": null,
   "metadata": {
    "ExecuteTime": {
     "end_time": "2023-04-19T14:48:32.850204Z",
     "start_time": "2023-04-19T14:48:32.810350Z"
    }
   },
   "outputs": [],
   "source": [
    "# Task: Model\n",
    "from torchkge.utils.pretrained_models import load_pretrained_transe\n",
    "from torch import tensor\n",
    "\n",
    "wallE = tensor(haha)\n",
    "tolkien = tensor(tolkienix)\n",
    "lewis = tensor(lewisix)\n",
    "\n",
    "transE = load_pretrained_transe('fb15k237')\n",
    "\n",
    "tolkienvector = transE.ent_emb(tolkien)\n",
    "lewisvector = transE.ent_emb(wallE)"
   ]
  },
  {
   "cell_type": "code",
   "execution_count": null,
   "metadata": {
    "ExecuteTime": {
     "end_time": "2023-04-19T14:48:33.399439Z",
     "start_time": "2023-04-19T14:48:33.394231Z"
    }
   },
   "outputs": [],
   "source": [
    "transE.dissimilarity(tolkienvector, lewisvector)"
   ]
  },
  {
   "cell_type": "code",
   "execution_count": null,
   "metadata": {},
   "outputs": [],
   "source": [
    "# Task: K-nearest Neighbour\n"
   ]
  },
  {
   "cell_type": "code",
   "execution_count": null,
   "metadata": {},
   "outputs": [],
   "source": [
    "# Task: Translations"
   ]
  }
 ],
 "metadata": {
  "kernelspec": {
   "display_name": "Python 3 (ipykernel)",
   "language": "python",
   "name": "python3"
  },
  "language_info": {
   "codemirror_mode": {
    "name": "ipython",
    "version": 3
   },
   "file_extension": ".py",
   "mimetype": "text/x-python",
   "name": "python",
   "nbconvert_exporter": "python",
   "pygments_lexer": "ipython3",
   "version": "3.9.13"
  }
 },
 "nbformat": 4,
 "nbformat_minor": 1
}
