{
 "cells": [
  {
   "cell_type": "code",
   "execution_count": 2,
   "outputs": [],
   "source": [
    "import openpyxl as pyxl"
   ],
   "metadata": {
    "collapsed": false,
    "ExecuteTime": {
     "end_time": "2023-10-20T08:31:39.023703500Z",
     "start_time": "2023-10-20T08:31:39.005704300Z"
    }
   },
   "id": "12e2fbdf758f05c4"
  },
  {
   "cell_type": "code",
   "execution_count": 5,
   "outputs": [],
   "source": [
    "# oppg 1\n",
    "offentlige_toalett = pyxl.load_workbook('OffToalett.xlsx')\n",
    "toalett = offentlige_toalett.active"
   ],
   "metadata": {
    "collapsed": false,
    "ExecuteTime": {
     "end_time": "2023-10-20T08:35:28.027222700Z",
     "start_time": "2023-10-20T08:35:27.998219900Z"
    }
   },
   "id": "eba4242906822202"
  },
  {
   "cell_type": "code",
   "execution_count": 7,
   "outputs": [
    {
     "name": "stdout",
     "output_type": "stream",
     "text": [
      "Toaletter\n"
     ]
    }
   ],
   "source": [
    "print(toalett.title)"
   ],
   "metadata": {
    "collapsed": false,
    "ExecuteTime": {
     "end_time": "2023-10-20T08:36:28.435187900Z",
     "start_time": "2023-10-20T08:36:28.417189Z"
    }
   },
   "id": "5fbc2c7df29ae51e"
  },
  {
   "cell_type": "code",
   "execution_count": 8,
   "outputs": [
    {
     "name": "stdout",
     "output_type": "stream",
     "text": [
      "Soya Restaurant 12.00-23.00\n",
      "Café Aura 09.00-20.00\n"
     ]
    }
   ],
   "source": [
    "for (name, price, hc, stellerom, dame, herre, ma, ti, on, to, fr, lø, sø) in toalett:\n",
    "    if price.value == 'Free' and stellerom.value > 0:\n",
    "        print(name.value, ti.value)"
   ],
   "metadata": {
    "collapsed": false,
    "ExecuteTime": {
     "end_time": "2023-10-20T08:44:07.668277100Z",
     "start_time": "2023-10-20T08:44:07.647275700Z"
    }
   },
   "id": "989319c7d7e1eec2"
  },
  {
   "cell_type": "code",
   "execution_count": 10,
   "outputs": [
    {
     "name": "stdout",
     "output_type": "stream",
     "text": [
      "<Worksheet \"Emne\">\n"
     ]
    }
   ],
   "source": [
    "# Oppg 2\n",
    "# a)\n",
    "ubase = pyxl.load_workbook('ubase.xlsx')\n",
    "emner = ubase['Emne']"
   ],
   "metadata": {
    "collapsed": false,
    "ExecuteTime": {
     "end_time": "2023-10-20T09:12:40.144281100Z",
     "start_time": "2023-10-20T09:12:40.092202500Z"
    }
   },
   "id": "1dec7f0ff932c9e3"
  },
  {
   "cell_type": "code",
   "execution_count": 12,
   "outputs": [
    {
     "name": "stdout",
     "output_type": "stream",
     "text": [
      "GE100 Innføring i geografi 15\n",
      "GE114 Miljøgeografi 15\n"
     ]
    }
   ],
   "source": [
    "def geografiEmner(sheet):\n",
    "    for (kode, tittel, stp, institutt) in emner:\n",
    "        if institutt.value == 'Geografi':\n",
    "            print(kode.value, tittel.value, stp.value)\n",
    "\n",
    "\n",
    "geografiEmner(emner)"
   ],
   "metadata": {
    "collapsed": false,
    "ExecuteTime": {
     "end_time": "2023-10-20T09:14:34.096465900Z",
     "start_time": "2023-10-20T09:14:34.083401300Z"
    }
   },
   "id": "74200ac7c2827749"
  },
  {
   "cell_type": "code",
   "execution_count": 15,
   "outputs": [
    {
     "name": "stdout",
     "output_type": "stream",
     "text": [
      "1. amanuensis\n",
      "Stilling\n",
      "Professor\n",
      "Vit. assistent\n"
     ]
    }
   ],
   "source": [
    "# b)\n",
    "stilling = ubase['Ansatt']\n",
    "\n",
    "\n",
    "def stillingskategorier(sheet):\n",
    "    stillinger = []\n",
    "    for (id, institutt, stilling, sjef) in sheet:\n",
    "        stillinger.append(stilling.value)\n",
    "\n",
    "    for i in set(stillinger):\n",
    "        print(i)\n",
    "\n",
    "\n",
    "stillingskategorier(stilling)"
   ],
   "metadata": {
    "collapsed": false,
    "ExecuteTime": {
     "end_time": "2023-10-20T09:19:27.309272300Z",
     "start_time": "2023-10-20T09:19:27.289273100Z"
    }
   },
   "id": "ba19325fa32dc11d"
  },
  {
   "cell_type": "code",
   "execution_count": 31,
   "outputs": [
    {
     "name": "stdout",
     "output_type": "stream",
     "text": [
      "Kari Normann Interaksjonsdesign\n",
      "Per Olsen Naturgeografi\n",
      "Ina Fjell Kunstig intelligens\n",
      "Geir Olsen Naturgeografi\n",
      "Jon Dale Samfunnsgeografi\n",
      "Anne Solberg Kunstig intelligens\n"
     ]
    }
   ],
   "source": [
    "# c)\n",
    "person = ubase['Person']\n",
    "\n",
    "\n",
    "def fulltNavn(IDnr):\n",
    "    for (i, f, e, t, a) in person.rows:\n",
    "        if IDnr == i.value:\n",
    "            return f'{f.value} {e.value}'\n",
    "\n",
    "\n",
    "def studentProgrammer():\n",
    "    student = ubase['Student']\n",
    "\n",
    "    for (id, studium) in student['A2':'B7']:\n",
    "        print(fulltNavn(id.value), studium.value)\n",
    "\n",
    "\n",
    "studentProgrammer()"
   ],
   "metadata": {
    "collapsed": false,
    "ExecuteTime": {
     "end_time": "2023-10-20T09:37:25.503791600Z",
     "start_time": "2023-10-20T09:37:25.487791Z"
    }
   },
   "id": "694e00c98148f349"
  },
  {
   "cell_type": "code",
   "execution_count": 41,
   "outputs": [
    {
     "name": "stdout",
     "output_type": "stream",
     "text": [
      "Liv Hansen 45362718 Hanselunden 11\n"
     ]
    }
   ],
   "source": [
    "# d)\n",
    "def karakterer(navn):\n",
    "    person = ubase['Person']\n",
    "    eksamen = ubase['Eksamen']\n",
    "\n",
    "    for (idPerson, fornavn, etternavn, tlf, adr) in person:\n",
    "        person_navn = f'{fornavn.value} {etternavn.value}'\n",
    "\n",
    "        if person_navn.lower() == navn.lower():\n",
    "            print(person_navn, tlf.value, adr.value)\n",
    "            for (studentID, emne, karakter) in eksamen:\n",
    "                if studentID.value == idPerson.value:\n",
    "                    print(emne.value, karakter.value)\n",
    "\n",
    "\n",
    "karakterer('Liv Hansen')"
   ],
   "metadata": {
    "collapsed": false,
    "ExecuteTime": {
     "end_time": "2023-10-20T10:34:42.864411700Z",
     "start_time": "2023-10-20T10:34:42.848411300Z"
    }
   },
   "id": "1b4ec610a742d4d1"
  },
  {
   "cell_type": "code",
   "execution_count": 43,
   "outputs": [],
   "source": [
    "# Oppg 3\n",
    "## Program som summerer kolonnene i en tallmatrise\n",
    "import openpyxl\n",
    "from openpyxl.utils import get_column_letter\n",
    "\n",
    "##from openpyxl.cell.cell import get_column_letter ## alternativ\n",
    "\n",
    "tall = openpyxl.load_workbook('tallmatrise.xlsx')\n",
    "\n",
    "matrise = tall.active\n",
    "antallRader = matrise.max_row\n",
    "antallKolonner = matrise.max_column\n",
    "\n",
    "snittKolonne = get_column_letter(antallKolonner + 2)\n",
    "sumRad = str(antallRader + 2)\n",
    "\n",
    "for k in range(1, antallKolonner + 1):\n",
    "    bokstav = get_column_letter(k)\n",
    "    funk = '=SUM(' + bokstav + '1' + ':' + bokstav + str(antallRader) + ')'\n",
    "    matrise[bokstav + sumRad] = funk\n",
    "\n",
    "for r in range(1, antallRader + 1):\n",
    "    bokstav = get_column_letter(antallKolonner)\n",
    "    funk = f'=AVERAGE(A{str(r)}:{bokstav}{str(r)})'\n",
    "    matrise[snittKolonne + str(r)] = funk\n",
    "\n",
    "tall.save('tallmatrise2.xlsx')"
   ],
   "metadata": {
    "collapsed": false,
    "ExecuteTime": {
     "end_time": "2023-10-20T11:10:10.791266100Z",
     "start_time": "2023-10-20T11:10:10.763265900Z"
    }
   },
   "id": "d42c22c145f025dd"
  },
  {
   "cell_type": "code",
   "execution_count": 47,
   "outputs": [],
   "source": [
    "# Oppg 4\n",
    "tall2 = pyxl.load_workbook('tallmatrise.xlsx')\n",
    "matrise = tall2.active\n",
    "\n",
    "ny_matrise = tall2.create_sheet()\n",
    "ny_matrise.title = 'uten rand'\n",
    "\n",
    "siste_rad = matrise.max_row\n",
    "siste_kolonne = matrise.max_column\n",
    "sisteNyeCelle = get_column_letter(siste_kolonne - 1) + str(siste_rad - 1)\n",
    "\n",
    "randløs = matrise['B2':sisteNyeCelle]\n",
    "for r in range(1, siste_rad - 1):\n",
    "    for k in range(1, siste_kolonne - 1):\n",
    "        koordinat = get_column_letter(k) + str(r)\n",
    "        ny_matrise[koordinat] = randløs[r - 1][k - 1].value\n",
    "\n",
    "tall.save('tallmatrise3.xlsx')"
   ],
   "metadata": {
    "collapsed": false,
    "ExecuteTime": {
     "end_time": "2023-10-20T11:17:00.748149200Z",
     "start_time": "2023-10-20T11:17:00.716148300Z"
    }
   },
   "id": "655a6034c51b9cc9"
  },
  {
   "cell_type": "code",
   "execution_count": null,
   "outputs": [],
   "source": [],
   "metadata": {
    "collapsed": false
   },
   "id": "c755cb1be3486dd8"
  }
 ],
 "metadata": {
  "kernelspec": {
   "display_name": "Python 3",
   "language": "python",
   "name": "python3"
  },
  "language_info": {
   "codemirror_mode": {
    "name": "ipython",
    "version": 2
   },
   "file_extension": ".py",
   "mimetype": "text/x-python",
   "name": "python",
   "nbconvert_exporter": "python",
   "pygments_lexer": "ipython2",
   "version": "2.7.6"
  }
 },
 "nbformat": 4,
 "nbformat_minor": 5
}
