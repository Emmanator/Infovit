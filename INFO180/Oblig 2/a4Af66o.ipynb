{
 "cells": [
  {
   "cell_type": "code",
   "execution_count": 15,
   "id": "initial_id",
   "metadata": {
    "collapsed": true,
    "id": "initial_id",
    "ExecuteTime": {
     "end_time": "2023-10-04T10:50:02.354039800Z",
     "start_time": "2023-10-04T10:50:02.325039900Z"
    }
   },
   "outputs": [],
   "source": [
    "import pandas as pd\n",
    "from sklearn.preprocessing import MinMaxScaler\n",
    "from sklearn.model_selection import train_test_split\n",
    "from sklearn.neighbors import KNeighborsClassifier\n",
    "from sklearn.linear_model import LogisticRegression\n",
    "from sklearn.naive_bayes import CategoricalNB"
   ]
  },
  {
   "cell_type": "code",
   "execution_count": 16,
   "outputs": [],
   "source": [
    "df = pd.read_csv('diabetes.csv', names=(\"Pregnancy Rate\", \"Glucose\", \"Blood Pressure\", \"Skin\", \"Insulin\", \"BMI\", \"Diabetes.Inheritence\", \"Age\", \"Diabetes\"),\n",
    "                 na_values={\"Glucose\": 0, \"Blood Pressure\": 0, \"Skin\": 0, \"Insulin\": 0, \"BMI\": 0, \"Diabetes-Inheritence\": 0, \"Age\": 0})\n",
    "\n",
    "df.dropna(inplace=True)"
   ],
   "metadata": {
    "id": "a0e7ed7c0a2ce554",
    "ExecuteTime": {
     "end_time": "2023-10-04T10:50:02.400048600Z",
     "start_time": "2023-10-04T10:50:02.344040600Z"
    }
   },
   "id": "a0e7ed7c0a2ce554"
  },
  {
   "cell_type": "code",
   "source": [
    "# Dataset\n",
    "df.head(n=20)"
   ],
   "metadata": {
    "colab": {
     "base_uri": "https://localhost:8080/",
     "height": 677
    },
    "id": "JAx9mClUQrp0",
    "outputId": "c58603f5-1e28-41a2-a70c-b151b1c1de32",
    "ExecuteTime": {
     "end_time": "2023-10-04T10:50:02.412038700Z",
     "start_time": "2023-10-04T10:50:02.357040200Z"
    }
   },
   "id": "JAx9mClUQrp0",
   "execution_count": 17,
   "outputs": [
    {
     "data": {
      "text/plain": "    Pregnancy Rate  Glucose  Blood Pressure  Skin  Insulin   BMI  \\\n3                1     89.0            66.0  23.0     94.0  28.1   \n4                0    137.0            40.0  35.0    168.0  43.1   \n6                3     78.0            50.0  32.0     88.0  31.0   \n8                2    197.0            70.0  45.0    543.0  30.5   \n13               1    189.0            60.0  23.0    846.0  30.1   \n14               5    166.0            72.0  19.0    175.0  25.8   \n16               0    118.0            84.0  47.0    230.0  45.8   \n18               1    103.0            30.0  38.0     83.0  43.3   \n19               1    115.0            70.0  30.0     96.0  34.6   \n20               3    126.0            88.0  41.0    235.0  39.3   \n24              11    143.0            94.0  33.0    146.0  36.6   \n25              10    125.0            70.0  26.0    115.0  31.1   \n27               1     97.0            66.0  15.0    140.0  23.2   \n28              13    145.0            82.0  19.0    110.0  22.2   \n31               3    158.0            76.0  36.0    245.0  31.6   \n32               3     88.0            58.0  11.0     54.0  24.8   \n35               4    103.0            60.0  33.0    192.0  24.0   \n39               4    111.0            72.0  47.0    207.0  37.1   \n40               3    180.0            64.0  25.0     70.0  34.0   \n43               9    171.0           110.0  24.0    240.0  45.4   \n\n    Diabetes.Inheritence  Age  Diabetes  \n3                  0.167   21         0  \n4                  2.288   33         1  \n6                  0.248   26         1  \n8                  0.158   53         1  \n13                 0.398   59         1  \n14                 0.587   51         1  \n16                 0.551   31         1  \n18                 0.183   33         0  \n19                 0.529   32         1  \n20                 0.704   27         0  \n24                 0.254   51         1  \n25                 0.205   41         1  \n27                 0.487   22         0  \n28                 0.245   57         0  \n31                 0.851   28         1  \n32                 0.267   22         0  \n35                 0.966   33         0  \n39                 1.390   56         1  \n40                 0.271   26         0  \n43                 0.721   54         1  ",
      "text/html": "<div>\n<style scoped>\n    .dataframe tbody tr th:only-of-type {\n        vertical-align: middle;\n    }\n\n    .dataframe tbody tr th {\n        vertical-align: top;\n    }\n\n    .dataframe thead th {\n        text-align: right;\n    }\n</style>\n<table border=\"1\" class=\"dataframe\">\n  <thead>\n    <tr style=\"text-align: right;\">\n      <th></th>\n      <th>Pregnancy Rate</th>\n      <th>Glucose</th>\n      <th>Blood Pressure</th>\n      <th>Skin</th>\n      <th>Insulin</th>\n      <th>BMI</th>\n      <th>Diabetes.Inheritence</th>\n      <th>Age</th>\n      <th>Diabetes</th>\n    </tr>\n  </thead>\n  <tbody>\n    <tr>\n      <th>3</th>\n      <td>1</td>\n      <td>89.0</td>\n      <td>66.0</td>\n      <td>23.0</td>\n      <td>94.0</td>\n      <td>28.1</td>\n      <td>0.167</td>\n      <td>21</td>\n      <td>0</td>\n    </tr>\n    <tr>\n      <th>4</th>\n      <td>0</td>\n      <td>137.0</td>\n      <td>40.0</td>\n      <td>35.0</td>\n      <td>168.0</td>\n      <td>43.1</td>\n      <td>2.288</td>\n      <td>33</td>\n      <td>1</td>\n    </tr>\n    <tr>\n      <th>6</th>\n      <td>3</td>\n      <td>78.0</td>\n      <td>50.0</td>\n      <td>32.0</td>\n      <td>88.0</td>\n      <td>31.0</td>\n      <td>0.248</td>\n      <td>26</td>\n      <td>1</td>\n    </tr>\n    <tr>\n      <th>8</th>\n      <td>2</td>\n      <td>197.0</td>\n      <td>70.0</td>\n      <td>45.0</td>\n      <td>543.0</td>\n      <td>30.5</td>\n      <td>0.158</td>\n      <td>53</td>\n      <td>1</td>\n    </tr>\n    <tr>\n      <th>13</th>\n      <td>1</td>\n      <td>189.0</td>\n      <td>60.0</td>\n      <td>23.0</td>\n      <td>846.0</td>\n      <td>30.1</td>\n      <td>0.398</td>\n      <td>59</td>\n      <td>1</td>\n    </tr>\n    <tr>\n      <th>14</th>\n      <td>5</td>\n      <td>166.0</td>\n      <td>72.0</td>\n      <td>19.0</td>\n      <td>175.0</td>\n      <td>25.8</td>\n      <td>0.587</td>\n      <td>51</td>\n      <td>1</td>\n    </tr>\n    <tr>\n      <th>16</th>\n      <td>0</td>\n      <td>118.0</td>\n      <td>84.0</td>\n      <td>47.0</td>\n      <td>230.0</td>\n      <td>45.8</td>\n      <td>0.551</td>\n      <td>31</td>\n      <td>1</td>\n    </tr>\n    <tr>\n      <th>18</th>\n      <td>1</td>\n      <td>103.0</td>\n      <td>30.0</td>\n      <td>38.0</td>\n      <td>83.0</td>\n      <td>43.3</td>\n      <td>0.183</td>\n      <td>33</td>\n      <td>0</td>\n    </tr>\n    <tr>\n      <th>19</th>\n      <td>1</td>\n      <td>115.0</td>\n      <td>70.0</td>\n      <td>30.0</td>\n      <td>96.0</td>\n      <td>34.6</td>\n      <td>0.529</td>\n      <td>32</td>\n      <td>1</td>\n    </tr>\n    <tr>\n      <th>20</th>\n      <td>3</td>\n      <td>126.0</td>\n      <td>88.0</td>\n      <td>41.0</td>\n      <td>235.0</td>\n      <td>39.3</td>\n      <td>0.704</td>\n      <td>27</td>\n      <td>0</td>\n    </tr>\n    <tr>\n      <th>24</th>\n      <td>11</td>\n      <td>143.0</td>\n      <td>94.0</td>\n      <td>33.0</td>\n      <td>146.0</td>\n      <td>36.6</td>\n      <td>0.254</td>\n      <td>51</td>\n      <td>1</td>\n    </tr>\n    <tr>\n      <th>25</th>\n      <td>10</td>\n      <td>125.0</td>\n      <td>70.0</td>\n      <td>26.0</td>\n      <td>115.0</td>\n      <td>31.1</td>\n      <td>0.205</td>\n      <td>41</td>\n      <td>1</td>\n    </tr>\n    <tr>\n      <th>27</th>\n      <td>1</td>\n      <td>97.0</td>\n      <td>66.0</td>\n      <td>15.0</td>\n      <td>140.0</td>\n      <td>23.2</td>\n      <td>0.487</td>\n      <td>22</td>\n      <td>0</td>\n    </tr>\n    <tr>\n      <th>28</th>\n      <td>13</td>\n      <td>145.0</td>\n      <td>82.0</td>\n      <td>19.0</td>\n      <td>110.0</td>\n      <td>22.2</td>\n      <td>0.245</td>\n      <td>57</td>\n      <td>0</td>\n    </tr>\n    <tr>\n      <th>31</th>\n      <td>3</td>\n      <td>158.0</td>\n      <td>76.0</td>\n      <td>36.0</td>\n      <td>245.0</td>\n      <td>31.6</td>\n      <td>0.851</td>\n      <td>28</td>\n      <td>1</td>\n    </tr>\n    <tr>\n      <th>32</th>\n      <td>3</td>\n      <td>88.0</td>\n      <td>58.0</td>\n      <td>11.0</td>\n      <td>54.0</td>\n      <td>24.8</td>\n      <td>0.267</td>\n      <td>22</td>\n      <td>0</td>\n    </tr>\n    <tr>\n      <th>35</th>\n      <td>4</td>\n      <td>103.0</td>\n      <td>60.0</td>\n      <td>33.0</td>\n      <td>192.0</td>\n      <td>24.0</td>\n      <td>0.966</td>\n      <td>33</td>\n      <td>0</td>\n    </tr>\n    <tr>\n      <th>39</th>\n      <td>4</td>\n      <td>111.0</td>\n      <td>72.0</td>\n      <td>47.0</td>\n      <td>207.0</td>\n      <td>37.1</td>\n      <td>1.390</td>\n      <td>56</td>\n      <td>1</td>\n    </tr>\n    <tr>\n      <th>40</th>\n      <td>3</td>\n      <td>180.0</td>\n      <td>64.0</td>\n      <td>25.0</td>\n      <td>70.0</td>\n      <td>34.0</td>\n      <td>0.271</td>\n      <td>26</td>\n      <td>0</td>\n    </tr>\n    <tr>\n      <th>43</th>\n      <td>9</td>\n      <td>171.0</td>\n      <td>110.0</td>\n      <td>24.0</td>\n      <td>240.0</td>\n      <td>45.4</td>\n      <td>0.721</td>\n      <td>54</td>\n      <td>1</td>\n    </tr>\n  </tbody>\n</table>\n</div>"
     },
     "execution_count": 17,
     "metadata": {},
     "output_type": "execute_result"
    }
   ]
  },
  {
   "cell_type": "code",
   "execution_count": 18,
   "outputs": [],
   "source": [
    "X = df.iloc[:, 0:-1]\n",
    "y = df[\"Diabetes\"]\n",
    "scaler = MinMaxScaler() # MinMaxScaler used\n",
    "\n",
    "Xs = scaler.fit_transform(X)"
   ],
   "metadata": {
    "id": "e48fc6d0da089fac",
    "ExecuteTime": {
     "end_time": "2023-10-04T10:50:02.414040400Z",
     "start_time": "2023-10-04T10:50:02.390042Z"
    }
   },
   "id": "e48fc6d0da089fac"
  },
  {
   "cell_type": "code",
   "execution_count": 19,
   "outputs": [
    {
     "data": {
      "text/plain": "      Pregnancy Rate  Glucose  Blood Pressure  Skin  Insulin   BMI  \\\n0.25             1.0     99.0            62.0  21.0    76.75  28.4   \n0.50             2.0    119.0            70.0  29.0   125.50  33.2   \n0.75             5.0    143.0            78.0  37.0   190.00  37.1   \n\n      Diabetes.Inheritence   Age  Diabetes  \n0.25               0.26975  23.0       0.0  \n0.50               0.44950  27.0       0.0  \n0.75               0.68700  36.0       1.0  ",
      "text/html": "<div>\n<style scoped>\n    .dataframe tbody tr th:only-of-type {\n        vertical-align: middle;\n    }\n\n    .dataframe tbody tr th {\n        vertical-align: top;\n    }\n\n    .dataframe thead th {\n        text-align: right;\n    }\n</style>\n<table border=\"1\" class=\"dataframe\">\n  <thead>\n    <tr style=\"text-align: right;\">\n      <th></th>\n      <th>Pregnancy Rate</th>\n      <th>Glucose</th>\n      <th>Blood Pressure</th>\n      <th>Skin</th>\n      <th>Insulin</th>\n      <th>BMI</th>\n      <th>Diabetes.Inheritence</th>\n      <th>Age</th>\n      <th>Diabetes</th>\n    </tr>\n  </thead>\n  <tbody>\n    <tr>\n      <th>0.25</th>\n      <td>1.0</td>\n      <td>99.0</td>\n      <td>62.0</td>\n      <td>21.0</td>\n      <td>76.75</td>\n      <td>28.4</td>\n      <td>0.26975</td>\n      <td>23.0</td>\n      <td>0.0</td>\n    </tr>\n    <tr>\n      <th>0.50</th>\n      <td>2.0</td>\n      <td>119.0</td>\n      <td>70.0</td>\n      <td>29.0</td>\n      <td>125.50</td>\n      <td>33.2</td>\n      <td>0.44950</td>\n      <td>27.0</td>\n      <td>0.0</td>\n    </tr>\n    <tr>\n      <th>0.75</th>\n      <td>5.0</td>\n      <td>143.0</td>\n      <td>78.0</td>\n      <td>37.0</td>\n      <td>190.00</td>\n      <td>37.1</td>\n      <td>0.68700</td>\n      <td>36.0</td>\n      <td>1.0</td>\n    </tr>\n  </tbody>\n</table>\n</div>"
     },
     "execution_count": 19,
     "metadata": {},
     "output_type": "execute_result"
    }
   ],
   "source": [
    "quartiles = df.quantile([0.25, 0.50, 0.75]) # Quantiles for CategoricalNB\n",
    "quartiles"
   ],
   "metadata": {
    "colab": {
     "base_uri": "https://localhost:8080/",
     "height": 143
    },
    "id": "32355643bd90dd9e",
    "outputId": "8eebffb7-9822-4ed4-ebcf-dab16288e15c",
    "ExecuteTime": {
     "end_time": "2023-10-04T10:50:02.425038300Z",
     "start_time": "2023-10-04T10:50:02.405040100Z"
    }
   },
   "id": "32355643bd90dd9e"
  },
  {
   "cell_type": "code",
   "execution_count": 20,
   "outputs": [
    {
     "data": {
      "text/plain": "    Pregnancy Rate  Glucose  Blood Pressure  Skin  Insulin  BMI  \\\n3                0        0               1     1        1    0   \n4                0        2               0     2        2    3   \n6                2        0               0     2        1    1   \n8                1        3               1     3        3    1   \n13               0        3               0     1        3    1   \n14               2        3               2     0        2    0   \n16               0        1               3     3        3    3   \n18               0        1               0     3        1    3   \n19               0        1               1     2        1    2   \n20               2        2               3     3        3    3   \n24               3        2               3     2        2    2   \n25               3        2               1     1        1    1   \n27               0        0               1     0        2    0   \n28               3        3               3     0        1    0   \n31               2        3               2     2        3    1   \n32               2        0               0     0        0    0   \n35               2        1               0     2        3    0   \n39               2        1               2     3        3    2   \n40               2        3               1     1        0    2   \n43               3        3               3     1        3    3   \n\n    Diabetes.Inheritence  Age  Diabetes  \n3                      0    0         0  \n4                      3    2         1  \n6                      0    1         1  \n8                      0    3         1  \n13                     1    3         1  \n14                     2    3         1  \n16                     2    2         1  \n18                     0    2         0  \n19                     2    2         1  \n20                     3    1         0  \n24                     0    3         1  \n25                     0    3         1  \n27                     2    0         0  \n28                     0    3         0  \n31                     3    2         1  \n32                     0    0         0  \n35                     3    2         0  \n39                     3    3         1  \n40                     1    1         0  \n43                     3    3         1  ",
      "text/html": "<div>\n<style scoped>\n    .dataframe tbody tr th:only-of-type {\n        vertical-align: middle;\n    }\n\n    .dataframe tbody tr th {\n        vertical-align: top;\n    }\n\n    .dataframe thead th {\n        text-align: right;\n    }\n</style>\n<table border=\"1\" class=\"dataframe\">\n  <thead>\n    <tr style=\"text-align: right;\">\n      <th></th>\n      <th>Pregnancy Rate</th>\n      <th>Glucose</th>\n      <th>Blood Pressure</th>\n      <th>Skin</th>\n      <th>Insulin</th>\n      <th>BMI</th>\n      <th>Diabetes.Inheritence</th>\n      <th>Age</th>\n      <th>Diabetes</th>\n    </tr>\n  </thead>\n  <tbody>\n    <tr>\n      <th>3</th>\n      <td>0</td>\n      <td>0</td>\n      <td>1</td>\n      <td>1</td>\n      <td>1</td>\n      <td>0</td>\n      <td>0</td>\n      <td>0</td>\n      <td>0</td>\n    </tr>\n    <tr>\n      <th>4</th>\n      <td>0</td>\n      <td>2</td>\n      <td>0</td>\n      <td>2</td>\n      <td>2</td>\n      <td>3</td>\n      <td>3</td>\n      <td>2</td>\n      <td>1</td>\n    </tr>\n    <tr>\n      <th>6</th>\n      <td>2</td>\n      <td>0</td>\n      <td>0</td>\n      <td>2</td>\n      <td>1</td>\n      <td>1</td>\n      <td>0</td>\n      <td>1</td>\n      <td>1</td>\n    </tr>\n    <tr>\n      <th>8</th>\n      <td>1</td>\n      <td>3</td>\n      <td>1</td>\n      <td>3</td>\n      <td>3</td>\n      <td>1</td>\n      <td>0</td>\n      <td>3</td>\n      <td>1</td>\n    </tr>\n    <tr>\n      <th>13</th>\n      <td>0</td>\n      <td>3</td>\n      <td>0</td>\n      <td>1</td>\n      <td>3</td>\n      <td>1</td>\n      <td>1</td>\n      <td>3</td>\n      <td>1</td>\n    </tr>\n    <tr>\n      <th>14</th>\n      <td>2</td>\n      <td>3</td>\n      <td>2</td>\n      <td>0</td>\n      <td>2</td>\n      <td>0</td>\n      <td>2</td>\n      <td>3</td>\n      <td>1</td>\n    </tr>\n    <tr>\n      <th>16</th>\n      <td>0</td>\n      <td>1</td>\n      <td>3</td>\n      <td>3</td>\n      <td>3</td>\n      <td>3</td>\n      <td>2</td>\n      <td>2</td>\n      <td>1</td>\n    </tr>\n    <tr>\n      <th>18</th>\n      <td>0</td>\n      <td>1</td>\n      <td>0</td>\n      <td>3</td>\n      <td>1</td>\n      <td>3</td>\n      <td>0</td>\n      <td>2</td>\n      <td>0</td>\n    </tr>\n    <tr>\n      <th>19</th>\n      <td>0</td>\n      <td>1</td>\n      <td>1</td>\n      <td>2</td>\n      <td>1</td>\n      <td>2</td>\n      <td>2</td>\n      <td>2</td>\n      <td>1</td>\n    </tr>\n    <tr>\n      <th>20</th>\n      <td>2</td>\n      <td>2</td>\n      <td>3</td>\n      <td>3</td>\n      <td>3</td>\n      <td>3</td>\n      <td>3</td>\n      <td>1</td>\n      <td>0</td>\n    </tr>\n    <tr>\n      <th>24</th>\n      <td>3</td>\n      <td>2</td>\n      <td>3</td>\n      <td>2</td>\n      <td>2</td>\n      <td>2</td>\n      <td>0</td>\n      <td>3</td>\n      <td>1</td>\n    </tr>\n    <tr>\n      <th>25</th>\n      <td>3</td>\n      <td>2</td>\n      <td>1</td>\n      <td>1</td>\n      <td>1</td>\n      <td>1</td>\n      <td>0</td>\n      <td>3</td>\n      <td>1</td>\n    </tr>\n    <tr>\n      <th>27</th>\n      <td>0</td>\n      <td>0</td>\n      <td>1</td>\n      <td>0</td>\n      <td>2</td>\n      <td>0</td>\n      <td>2</td>\n      <td>0</td>\n      <td>0</td>\n    </tr>\n    <tr>\n      <th>28</th>\n      <td>3</td>\n      <td>3</td>\n      <td>3</td>\n      <td>0</td>\n      <td>1</td>\n      <td>0</td>\n      <td>0</td>\n      <td>3</td>\n      <td>0</td>\n    </tr>\n    <tr>\n      <th>31</th>\n      <td>2</td>\n      <td>3</td>\n      <td>2</td>\n      <td>2</td>\n      <td>3</td>\n      <td>1</td>\n      <td>3</td>\n      <td>2</td>\n      <td>1</td>\n    </tr>\n    <tr>\n      <th>32</th>\n      <td>2</td>\n      <td>0</td>\n      <td>0</td>\n      <td>0</td>\n      <td>0</td>\n      <td>0</td>\n      <td>0</td>\n      <td>0</td>\n      <td>0</td>\n    </tr>\n    <tr>\n      <th>35</th>\n      <td>2</td>\n      <td>1</td>\n      <td>0</td>\n      <td>2</td>\n      <td>3</td>\n      <td>0</td>\n      <td>3</td>\n      <td>2</td>\n      <td>0</td>\n    </tr>\n    <tr>\n      <th>39</th>\n      <td>2</td>\n      <td>1</td>\n      <td>2</td>\n      <td>3</td>\n      <td>3</td>\n      <td>2</td>\n      <td>3</td>\n      <td>3</td>\n      <td>1</td>\n    </tr>\n    <tr>\n      <th>40</th>\n      <td>2</td>\n      <td>3</td>\n      <td>1</td>\n      <td>1</td>\n      <td>0</td>\n      <td>2</td>\n      <td>1</td>\n      <td>1</td>\n      <td>0</td>\n    </tr>\n    <tr>\n      <th>43</th>\n      <td>3</td>\n      <td>3</td>\n      <td>3</td>\n      <td>1</td>\n      <td>3</td>\n      <td>3</td>\n      <td>3</td>\n      <td>3</td>\n      <td>1</td>\n    </tr>\n  </tbody>\n</table>\n</div>"
     },
     "execution_count": 20,
     "metadata": {},
     "output_type": "execute_result"
    }
   ],
   "source": [
    "dfC = df.copy() \n",
    "\n",
    "# Function to properly value things for CategoricalNB\n",
    "def convert_to_categorical(value, column): \n",
    "    if value <= quartiles.iloc[0][column]:\n",
    "        return 0\n",
    "    if value <= quartiles.iloc[1][column]:\n",
    "        return 1\n",
    "    if value <= quartiles.iloc[2][column]:\n",
    "        return 2\n",
    "    else:\n",
    "        return 3\n",
    "\n",
    "\n",
    "for column in df.drop('Diabetes', axis=1):\n",
    "    dfC[column] = df[column].apply(lambda x: convert_to_categorical(x, column))\n",
    "dfC.head(n=20)"
   ],
   "metadata": {
    "colab": {
     "base_uri": "https://localhost:8080/",
     "height": 677
    },
    "id": "420a0f67af6587c6",
    "outputId": "57271dcb-d9f0-4cab-bdc6-a1ce0327b4e7",
    "ExecuteTime": {
     "end_time": "2023-10-04T10:50:02.659038800Z",
     "start_time": "2023-10-04T10:50:02.529075300Z"
    }
   },
   "id": "420a0f67af6587c6"
  },
  {
   "cell_type": "code",
   "source": [
    "df.head(n=1)"
   ],
   "metadata": {
    "colab": {
     "base_uri": "https://localhost:8080/",
     "height": 81
    },
    "id": "IDu4x179RNUq",
    "outputId": "55d53005-15d0-4e1f-d705-7e8902606e31",
    "ExecuteTime": {
     "end_time": "2023-10-04T10:50:02.684049100Z",
     "start_time": "2023-10-04T10:50:02.660040Z"
    }
   },
   "id": "IDu4x179RNUq",
   "execution_count": 21,
   "outputs": [
    {
     "data": {
      "text/plain": "   Pregnancy Rate  Glucose  Blood Pressure  Skin  Insulin   BMI  \\\n3               1     89.0            66.0  23.0     94.0  28.1   \n\n   Diabetes.Inheritence  Age  Diabetes  \n3                 0.167   21         0  ",
      "text/html": "<div>\n<style scoped>\n    .dataframe tbody tr th:only-of-type {\n        vertical-align: middle;\n    }\n\n    .dataframe tbody tr th {\n        vertical-align: top;\n    }\n\n    .dataframe thead th {\n        text-align: right;\n    }\n</style>\n<table border=\"1\" class=\"dataframe\">\n  <thead>\n    <tr style=\"text-align: right;\">\n      <th></th>\n      <th>Pregnancy Rate</th>\n      <th>Glucose</th>\n      <th>Blood Pressure</th>\n      <th>Skin</th>\n      <th>Insulin</th>\n      <th>BMI</th>\n      <th>Diabetes.Inheritence</th>\n      <th>Age</th>\n      <th>Diabetes</th>\n    </tr>\n  </thead>\n  <tbody>\n    <tr>\n      <th>3</th>\n      <td>1</td>\n      <td>89.0</td>\n      <td>66.0</td>\n      <td>23.0</td>\n      <td>94.0</td>\n      <td>28.1</td>\n      <td>0.167</td>\n      <td>21</td>\n      <td>0</td>\n    </tr>\n  </tbody>\n</table>\n</div>"
     },
     "execution_count": 21,
     "metadata": {},
     "output_type": "execute_result"
    }
   ]
  },
  {
   "cell_type": "code",
   "execution_count": 22,
   "outputs": [],
   "source": [
    "# Train test split for K-nearest and Logistical Regression\n",
    "X_train, X_test, y_train, y_test = train_test_split(Xs, y, test_size=0.20, random_state=3, stratify=y)"
   ],
   "metadata": {
    "id": "4d0b1e0de045dfbe",
    "ExecuteTime": {
     "end_time": "2023-10-04T10:50:02.783038200Z",
     "start_time": "2023-10-04T10:50:02.676039800Z"
    }
   },
   "id": "4d0b1e0de045dfbe"
  },
  {
   "cell_type": "code",
   "execution_count": 23,
   "outputs": [
    {
     "name": "stdout",
     "output_type": "stream",
     "text": [
      "0.8227848101265823\n",
      "[0 0 1 1 0 0 1 0 0 0 0 0 0 1 1 0 1 0 1 1 1 0 1 0 1 0 0 0 0 1 0 0 1 0 0 0 0\n",
      " 1 0 0 0 0 0 0 0 0 0 1 1 1 1 0 1 0 1 0 1 1 0 1 0 0 0 1 0 0 0 0 0 0 0 0 0 0\n",
      " 0 0 0 0 0]\n"
     ]
    }
   ],
   "source": [
    "# K-nearest neighbhour\n",
    "knn = KNeighborsClassifier()\n",
    "knn.fit(X_train, y_train)\n",
    "print(knn.score(X_test, y_test))\n",
    "print(knn.predict(X_test))"
   ],
   "metadata": {
    "colab": {
     "base_uri": "https://localhost:8080/"
    },
    "id": "51740be23f51b5e2",
    "outputId": "5542289d-b924-4453-c263-769d08de2511",
    "ExecuteTime": {
     "end_time": "2023-10-04T10:50:02.847043200Z",
     "start_time": "2023-10-04T10:50:02.692039100Z"
    }
   },
   "id": "51740be23f51b5e2"
  },
  {
   "cell_type": "code",
   "execution_count": 24,
   "outputs": [
    {
     "name": "stdout",
     "output_type": "stream",
     "text": [
      "0.7721518987341772\n",
      "[0 0 1 1 0 0 1 0 0 0 0 1 0 0 1 0 0 1 1 0 0 0 1 0 1 0 0 0 0 1 1 0 1 0 1 0 0\n",
      " 1 0 0 0 0 0 0 0 0 0 1 1 1 1 1 1 0 1 1 0 1 1 1 0 0 0 1 0 1 0 1 0 0 0 0 0 0\n",
      " 1 0 1 0 0]\n"
     ]
    }
   ],
   "source": [
    "# CategoricalNB\n",
    "Xc = dfC.iloc[:, 0:-1]\n",
    "\n",
    "# Another split for this model\n",
    "X_train_c, X_test_c, y_train_c, y_test_c = train_test_split(Xc, y, test_size=0.20, random_state=3, stratify=y)\n",
    "cnb = CategoricalNB()\n",
    "cnb.fit(X_train_c, y_train_c)\n",
    "print(cnb.score(X_test_c, y_test_c))\n",
    "print(cnb.predict(X_test_c))"
   ],
   "metadata": {
    "colab": {
     "base_uri": "https://localhost:8080/"
    },
    "id": "4611bbe87cb8b5e2",
    "outputId": "bd7f6fc9-9537-4cbf-bf20-8d649b7d69ea",
    "ExecuteTime": {
     "end_time": "2023-10-04T10:50:02.895043Z",
     "start_time": "2023-10-04T10:50:02.709038900Z"
    }
   },
   "id": "4611bbe87cb8b5e2"
  },
  {
   "cell_type": "code",
   "execution_count": 25,
   "outputs": [
    {
     "name": "stdout",
     "output_type": "stream",
     "text": [
      "0.8481012658227848\n",
      "[0 0 0 1 0 0 1 0 0 0 0 1 0 0 0 1 1 0 1 0 0 0 1 0 1 0 0 0 0 1 1 0 1 0 0 0 0\n",
      " 1 0 0 0 0 0 0 0 0 0 1 1 1 0 0 1 0 0 0 0 1 1 1 0 0 0 1 0 0 0 0 0 0 0 0 0 0\n",
      " 0 0 0 0 0]\n"
     ]
    }
   ],
   "source": [
    "# Logistic Regression\n",
    "log_reg = LogisticRegression()\n",
    "log_reg.fit(X_train, y_train)\n",
    "print(log_reg.score(X_test, y_test))\n",
    "print(log_reg.predict(X_test))"
   ],
   "metadata": {
    "colab": {
     "base_uri": "https://localhost:8080/"
    },
    "id": "dfbb10a50618045b",
    "outputId": "799b0d65-a578-4c9c-e062-d7fae577c39f",
    "ExecuteTime": {
     "end_time": "2023-10-04T10:50:02.916038400Z",
     "start_time": "2023-10-04T10:50:02.724043100Z"
    }
   },
   "id": "dfbb10a50618045b"
  }
 ],
 "metadata": {
  "kernelspec": {
   "display_name": "Python 3",
   "language": "python",
   "name": "python3"
  },
  "language_info": {
   "codemirror_mode": {
    "name": "ipython",
    "version": 2
   },
   "file_extension": ".py",
   "mimetype": "text/x-python",
   "name": "python",
   "nbconvert_exporter": "python",
   "pygments_lexer": "ipython2",
   "version": "2.7.6"
  },
  "colab": {
   "provenance": []
  }
 },
 "nbformat": 4,
 "nbformat_minor": 5
}
