{
 "cells": [
  {
   "cell_type": "code",
   "execution_count": 13,
   "id": "initial_id",
   "metadata": {
    "collapsed": true,
    "ExecuteTime": {
     "end_time": "2023-10-04T10:46:07.888213500Z",
     "start_time": "2023-10-04T10:46:07.866213Z"
    }
   },
   "outputs": [],
   "source": [
    "import pandas as pd\n",
    "from sklearn.preprocessing import MinMaxScaler\n",
    "from sklearn.model_selection import train_test_split\n",
    "\n",
    "from sklearn.neighbors import KNeighborsClassifier\n",
    "from sklearn.linear_model import LogisticRegression\n",
    "from sklearn.naive_bayes import CategoricalNB"
   ]
  },
  {
   "cell_type": "code",
   "execution_count": 14,
   "outputs": [],
   "source": [
    "df = pd.read_csv('diabetes.csv',\n",
    "                 names=(\"Pregnancy Rate\", \"Glucose\", \"Blood Pressure\", \"Skin\", \"Insulin\", \"BMI\", \"Diabetes.Inheritence\", \"Age\",\"Diabetes\"),\n",
    "                 na_values={\"Glucose\": 0, \"Blood Pressure\": 0, \"Skin\": 0, \"Insulin\": 0, \"BMI\": 0, \"Diabetes-Inheritence\": 0, \"Age\": 0})\n",
    "\n",
    "df.dropna(inplace=True)"
   ],
   "metadata": {
    "collapsed": false,
    "ExecuteTime": {
     "end_time": "2023-10-04T10:46:08.012213600Z",
     "start_time": "2023-10-04T10:46:07.903213200Z"
    }
   },
   "id": "a0e7ed7c0a2ce554"
  },
  {
   "cell_type": "code",
   "execution_count": 15,
   "outputs": [],
   "source": [
    "X = df.iloc[:, 0:-1]\n",
    "y = df[\"Diabetes\"]\n",
    "scaler = MinMaxScaler()\n",
    "\n",
    "Xs = scaler.fit_transform(X)"
   ],
   "metadata": {
    "collapsed": false,
    "ExecuteTime": {
     "end_time": "2023-10-04T10:46:08.046214400Z",
     "start_time": "2023-10-04T10:46:08.012213600Z"
    }
   },
   "id": "e48fc6d0da089fac"
  },
  {
   "cell_type": "code",
   "execution_count": 16,
   "outputs": [
    {
     "data": {
      "text/plain": "      Pregnancy Rate  Glucose  Blood Pressure  Skin  Insulin   BMI  \\\n0.25             1.0     99.0            62.0  21.0    76.75  28.4   \n0.50             2.0    119.0            70.0  29.0   125.50  33.2   \n0.75             5.0    143.0            78.0  37.0   190.00  37.1   \n\n      Diabetes.Inheritence   Age  Diabetes  \n0.25               0.26975  23.0       0.0  \n0.50               0.44950  27.0       0.0  \n0.75               0.68700  36.0       1.0  ",
      "text/html": "<div>\n<style scoped>\n    .dataframe tbody tr th:only-of-type {\n        vertical-align: middle;\n    }\n\n    .dataframe tbody tr th {\n        vertical-align: top;\n    }\n\n    .dataframe thead th {\n        text-align: right;\n    }\n</style>\n<table border=\"1\" class=\"dataframe\">\n  <thead>\n    <tr style=\"text-align: right;\">\n      <th></th>\n      <th>Pregnancy Rate</th>\n      <th>Glucose</th>\n      <th>Blood Pressure</th>\n      <th>Skin</th>\n      <th>Insulin</th>\n      <th>BMI</th>\n      <th>Diabetes.Inheritence</th>\n      <th>Age</th>\n      <th>Diabetes</th>\n    </tr>\n  </thead>\n  <tbody>\n    <tr>\n      <th>0.25</th>\n      <td>1.0</td>\n      <td>99.0</td>\n      <td>62.0</td>\n      <td>21.0</td>\n      <td>76.75</td>\n      <td>28.4</td>\n      <td>0.26975</td>\n      <td>23.0</td>\n      <td>0.0</td>\n    </tr>\n    <tr>\n      <th>0.50</th>\n      <td>2.0</td>\n      <td>119.0</td>\n      <td>70.0</td>\n      <td>29.0</td>\n      <td>125.50</td>\n      <td>33.2</td>\n      <td>0.44950</td>\n      <td>27.0</td>\n      <td>0.0</td>\n    </tr>\n    <tr>\n      <th>0.75</th>\n      <td>5.0</td>\n      <td>143.0</td>\n      <td>78.0</td>\n      <td>37.0</td>\n      <td>190.00</td>\n      <td>37.1</td>\n      <td>0.68700</td>\n      <td>36.0</td>\n      <td>1.0</td>\n    </tr>\n  </tbody>\n</table>\n</div>"
     },
     "execution_count": 16,
     "metadata": {},
     "output_type": "execute_result"
    }
   ],
   "source": [
    "quartiles = df.quantile([0.25, 0.50, 0.75])\n",
    "quartiles"
   ],
   "metadata": {
    "collapsed": false,
    "ExecuteTime": {
     "end_time": "2023-10-04T10:46:08.091212900Z",
     "start_time": "2023-10-04T10:46:08.047215600Z"
    }
   },
   "id": "32355643bd90dd9e"
  },
  {
   "cell_type": "code",
   "execution_count": 17,
   "outputs": [
    {
     "data": {
      "text/plain": "     Pregnancy Rate  Glucose  Blood Pressure  Skin  Insulin   BMI  \\\n3                 1     89.0            66.0  23.0     94.0  28.1   \n4                 0    137.0            40.0  35.0    168.0  43.1   \n6                 3     78.0            50.0  32.0     88.0  31.0   \n8                 2    197.0            70.0  45.0    543.0  30.5   \n13                1    189.0            60.0  23.0    846.0  30.1   \n..              ...      ...             ...   ...      ...   ...   \n753               0    181.0            88.0  44.0    510.0  43.3   \n755               1    128.0            88.0  39.0    110.0  36.5   \n760               2     88.0            58.0  26.0     16.0  28.4   \n763              10    101.0            76.0  48.0    180.0  32.9   \n765               5    121.0            72.0  23.0    112.0  26.2   \n\n     Diabetes.Inheritence  Age  Diabetes           0           1           2  \\\n3                   0.167   21         0         low         low   quite low   \n4                   2.288   33         1         low  quite high         low   \n6                   0.248   26         1  quite high         low         low   \n8                   0.158   53         1   quite low        high   quite low   \n13                  0.398   59         1         low        high         low   \n..                    ...  ...       ...         ...         ...         ...   \n753                 0.222   26         1         low        high        high   \n755                 1.057   37         1         low  quite high        high   \n760                 0.766   22         0   quite low         low         low   \n763                 0.171   63         0        high   quite low  quite high   \n765                 0.245   30         0  quite high  quite high  quite high   \n\n              3           4           5          6           7  \n3     quite low   quite low         low        low         low  \n4    quite high  quite high        high       high  quite high  \n6    quite high   quite low   quite low        low   quite low  \n8          high        high   quite low        low        high  \n13    quite low        high   quite low  quite low        high  \n..          ...         ...         ...        ...         ...  \n753        high        high        high        low   quite low  \n755        high   quite low  quite high       high        high  \n760   quite low         low         low       high         low  \n763        high  quite high   quite low        low        high  \n765   quite low   quite low         low        low  quite high  \n\n[392 rows x 17 columns]",
      "text/html": "<div>\n<style scoped>\n    .dataframe tbody tr th:only-of-type {\n        vertical-align: middle;\n    }\n\n    .dataframe tbody tr th {\n        vertical-align: top;\n    }\n\n    .dataframe thead th {\n        text-align: right;\n    }\n</style>\n<table border=\"1\" class=\"dataframe\">\n  <thead>\n    <tr style=\"text-align: right;\">\n      <th></th>\n      <th>Pregnancy Rate</th>\n      <th>Glucose</th>\n      <th>Blood Pressure</th>\n      <th>Skin</th>\n      <th>Insulin</th>\n      <th>BMI</th>\n      <th>Diabetes.Inheritence</th>\n      <th>Age</th>\n      <th>Diabetes</th>\n      <th>0</th>\n      <th>1</th>\n      <th>2</th>\n      <th>3</th>\n      <th>4</th>\n      <th>5</th>\n      <th>6</th>\n      <th>7</th>\n    </tr>\n  </thead>\n  <tbody>\n    <tr>\n      <th>3</th>\n      <td>1</td>\n      <td>89.0</td>\n      <td>66.0</td>\n      <td>23.0</td>\n      <td>94.0</td>\n      <td>28.1</td>\n      <td>0.167</td>\n      <td>21</td>\n      <td>0</td>\n      <td>low</td>\n      <td>low</td>\n      <td>quite low</td>\n      <td>quite low</td>\n      <td>quite low</td>\n      <td>low</td>\n      <td>low</td>\n      <td>low</td>\n    </tr>\n    <tr>\n      <th>4</th>\n      <td>0</td>\n      <td>137.0</td>\n      <td>40.0</td>\n      <td>35.0</td>\n      <td>168.0</td>\n      <td>43.1</td>\n      <td>2.288</td>\n      <td>33</td>\n      <td>1</td>\n      <td>low</td>\n      <td>quite high</td>\n      <td>low</td>\n      <td>quite high</td>\n      <td>quite high</td>\n      <td>high</td>\n      <td>high</td>\n      <td>quite high</td>\n    </tr>\n    <tr>\n      <th>6</th>\n      <td>3</td>\n      <td>78.0</td>\n      <td>50.0</td>\n      <td>32.0</td>\n      <td>88.0</td>\n      <td>31.0</td>\n      <td>0.248</td>\n      <td>26</td>\n      <td>1</td>\n      <td>quite high</td>\n      <td>low</td>\n      <td>low</td>\n      <td>quite high</td>\n      <td>quite low</td>\n      <td>quite low</td>\n      <td>low</td>\n      <td>quite low</td>\n    </tr>\n    <tr>\n      <th>8</th>\n      <td>2</td>\n      <td>197.0</td>\n      <td>70.0</td>\n      <td>45.0</td>\n      <td>543.0</td>\n      <td>30.5</td>\n      <td>0.158</td>\n      <td>53</td>\n      <td>1</td>\n      <td>quite low</td>\n      <td>high</td>\n      <td>quite low</td>\n      <td>high</td>\n      <td>high</td>\n      <td>quite low</td>\n      <td>low</td>\n      <td>high</td>\n    </tr>\n    <tr>\n      <th>13</th>\n      <td>1</td>\n      <td>189.0</td>\n      <td>60.0</td>\n      <td>23.0</td>\n      <td>846.0</td>\n      <td>30.1</td>\n      <td>0.398</td>\n      <td>59</td>\n      <td>1</td>\n      <td>low</td>\n      <td>high</td>\n      <td>low</td>\n      <td>quite low</td>\n      <td>high</td>\n      <td>quite low</td>\n      <td>quite low</td>\n      <td>high</td>\n    </tr>\n    <tr>\n      <th>...</th>\n      <td>...</td>\n      <td>...</td>\n      <td>...</td>\n      <td>...</td>\n      <td>...</td>\n      <td>...</td>\n      <td>...</td>\n      <td>...</td>\n      <td>...</td>\n      <td>...</td>\n      <td>...</td>\n      <td>...</td>\n      <td>...</td>\n      <td>...</td>\n      <td>...</td>\n      <td>...</td>\n      <td>...</td>\n    </tr>\n    <tr>\n      <th>753</th>\n      <td>0</td>\n      <td>181.0</td>\n      <td>88.0</td>\n      <td>44.0</td>\n      <td>510.0</td>\n      <td>43.3</td>\n      <td>0.222</td>\n      <td>26</td>\n      <td>1</td>\n      <td>low</td>\n      <td>high</td>\n      <td>high</td>\n      <td>high</td>\n      <td>high</td>\n      <td>high</td>\n      <td>low</td>\n      <td>quite low</td>\n    </tr>\n    <tr>\n      <th>755</th>\n      <td>1</td>\n      <td>128.0</td>\n      <td>88.0</td>\n      <td>39.0</td>\n      <td>110.0</td>\n      <td>36.5</td>\n      <td>1.057</td>\n      <td>37</td>\n      <td>1</td>\n      <td>low</td>\n      <td>quite high</td>\n      <td>high</td>\n      <td>high</td>\n      <td>quite low</td>\n      <td>quite high</td>\n      <td>high</td>\n      <td>high</td>\n    </tr>\n    <tr>\n      <th>760</th>\n      <td>2</td>\n      <td>88.0</td>\n      <td>58.0</td>\n      <td>26.0</td>\n      <td>16.0</td>\n      <td>28.4</td>\n      <td>0.766</td>\n      <td>22</td>\n      <td>0</td>\n      <td>quite low</td>\n      <td>low</td>\n      <td>low</td>\n      <td>quite low</td>\n      <td>low</td>\n      <td>low</td>\n      <td>high</td>\n      <td>low</td>\n    </tr>\n    <tr>\n      <th>763</th>\n      <td>10</td>\n      <td>101.0</td>\n      <td>76.0</td>\n      <td>48.0</td>\n      <td>180.0</td>\n      <td>32.9</td>\n      <td>0.171</td>\n      <td>63</td>\n      <td>0</td>\n      <td>high</td>\n      <td>quite low</td>\n      <td>quite high</td>\n      <td>high</td>\n      <td>quite high</td>\n      <td>quite low</td>\n      <td>low</td>\n      <td>high</td>\n    </tr>\n    <tr>\n      <th>765</th>\n      <td>5</td>\n      <td>121.0</td>\n      <td>72.0</td>\n      <td>23.0</td>\n      <td>112.0</td>\n      <td>26.2</td>\n      <td>0.245</td>\n      <td>30</td>\n      <td>0</td>\n      <td>quite high</td>\n      <td>quite high</td>\n      <td>quite high</td>\n      <td>quite low</td>\n      <td>quite low</td>\n      <td>low</td>\n      <td>low</td>\n      <td>quite high</td>\n    </tr>\n  </tbody>\n</table>\n<p>392 rows × 17 columns</p>\n</div>"
     },
     "execution_count": 17,
     "metadata": {},
     "output_type": "execute_result"
    }
   ],
   "source": [
    "dfC = df\n",
    "\n",
    "def convert_to_categorical(value, column):\n",
    "    if value <= quartiles.iloc[0, column]:\n",
    "        return 'low'\n",
    "    elif value <= quartiles.iloc[1, column]:\n",
    "        return 'quite low'\n",
    "    elif value <= quartiles.iloc[2, column]:\n",
    "        return 'quite high'\n",
    "    else:\n",
    "        return 'high'\n",
    "\n",
    "for column in range(8):\n",
    "    dfC[f'{column}'] = dfC.iloc[:, column].apply(lambda x: convert_to_categorical(x, column))\n",
    "dfC"
   ],
   "metadata": {
    "collapsed": false,
    "ExecuteTime": {
     "end_time": "2023-10-04T10:46:08.207214100Z",
     "start_time": "2023-10-04T10:46:08.079213500Z"
    }
   },
   "id": "420a0f67af6587c6"
  },
  {
   "cell_type": "code",
   "execution_count": 18,
   "outputs": [],
   "source": [
    "X_train, X_test, y_train, y_test = train_test_split(Xs, y, test_size=0.20, random_state=3, stratify=y)"
   ],
   "metadata": {
    "collapsed": false,
    "ExecuteTime": {
     "end_time": "2023-10-04T10:46:08.220214Z",
     "start_time": "2023-10-04T10:46:08.206214Z"
    }
   },
   "id": "4d0b1e0de045dfbe"
  },
  {
   "cell_type": "code",
   "execution_count": 19,
   "outputs": [],
   "source": [
    "X_testS = scaler.fit_transform(X_test)"
   ],
   "metadata": {
    "collapsed": false,
    "ExecuteTime": {
     "end_time": "2023-10-04T10:46:08.242213200Z",
     "start_time": "2023-10-04T10:46:08.221213100Z"
    }
   },
   "id": "e280595f87d1bf03"
  },
  {
   "cell_type": "code",
   "execution_count": 20,
   "outputs": [
    {
     "name": "stdout",
     "output_type": "stream",
     "text": [
      "0.8227848101265823\n",
      "[0 0 1 1 0 0 1 0 0 0 0 0 0 1 1 0 1 0 1 1 1 0 1 0 1 0 0 0 0 1 0 0 1 0 0 0 0\n",
      " 1 0 0 0 0 0 0 0 0 0 1 1 1 1 0 1 0 1 0 1 1 0 1 0 0 0 1 0 0 0 0 0 0 0 0 0 0\n",
      " 0 0 0 0 0]\n"
     ]
    }
   ],
   "source": [
    "# K-nearest neighbhour\n",
    "knn = KNeighborsClassifier()\n",
    "knn.fit(X_train, y_train)\n",
    "print(knn.score(X_test, y_test))\n",
    "print(knn.predict(X_test))"
   ],
   "metadata": {
    "collapsed": false,
    "ExecuteTime": {
     "end_time": "2023-10-04T10:46:08.343217200Z",
     "start_time": "2023-10-04T10:46:08.239213400Z"
    }
   },
   "id": "51740be23f51b5e2"
  },
  {
   "cell_type": "code",
   "execution_count": 21,
   "outputs": [],
   "source": [
    "# CategoricalNB\n",
    "cnb = CategoricalNB()"
   ],
   "metadata": {
    "collapsed": false,
    "ExecuteTime": {
     "end_time": "2023-10-04T10:46:08.357217300Z",
     "start_time": "2023-10-04T10:46:08.284214500Z"
    }
   },
   "id": "4611bbe87cb8b5e2"
  },
  {
   "cell_type": "code",
   "execution_count": 22,
   "outputs": [
    {
     "name": "stdout",
     "output_type": "stream",
     "text": [
      "0.8481012658227848\n",
      "[0 0 0 1 0 0 1 0 0 0 0 1 0 0 0 1 1 0 1 0 0 0 1 0 1 0 0 0 0 1 1 0 1 0 0 0 0\n",
      " 1 0 0 0 0 0 0 0 0 0 1 1 1 0 0 1 0 0 0 0 1 1 1 0 0 0 1 0 0 0 0 0 0 0 0 0 0\n",
      " 0 0 0 0 0]\n"
     ]
    }
   ],
   "source": [
    "# Logistic Regression\n",
    "log_reg = LogisticRegression(random_state=16)\n",
    "log_reg.fit(X_train, y_train)\n",
    "print(log_reg.score(X_test, y_test))\n",
    "print(log_reg.predict(X_test))"
   ],
   "metadata": {
    "collapsed": false,
    "ExecuteTime": {
     "end_time": "2023-10-04T10:46:08.359220Z",
     "start_time": "2023-10-04T10:46:08.299213300Z"
    }
   },
   "id": "dfbb10a50618045b"
  }
 ],
 "metadata": {
  "kernelspec": {
   "display_name": "Python 3",
   "language": "python",
   "name": "python3"
  },
  "language_info": {
   "codemirror_mode": {
    "name": "ipython",
    "version": 2
   },
   "file_extension": ".py",
   "mimetype": "text/x-python",
   "name": "python",
   "nbconvert_exporter": "python",
   "pygments_lexer": "ipython2",
   "version": "2.7.6"
  }
 },
 "nbformat": 4,
 "nbformat_minor": 5
}
